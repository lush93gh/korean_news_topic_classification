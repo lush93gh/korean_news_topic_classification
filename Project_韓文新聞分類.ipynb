{
  "cells": [
    {
      "cell_type": "markdown",
      "metadata": {
        "id": "Na0_QjevL_F5"
      },
      "source": [
        "# Project：韓文新聞分類"
      ]
    },
    {
      "cell_type": "markdown",
      "metadata": {
        "id": "rxVfmTuzLmyp"
      },
      "source": [
        "這個專案的資料修改自 [YNAT](https://klue-benchmark.com/tasks/66/overview/description) 資料集，藉由韓文的新聞標題，來判斷該新聞的主題分類\n",
        "\n",
        "訓練資料集（`train.csv`） 、驗證資料集（`val.csv`）、測試資料集（`test.csv`）分別有 40,000、5,000、5,000 筆新聞的資料，每個資料集都包含以下欄位：\n",
        "- `id`: 該新聞的 ID\n",
        "- `title`: 該新聞的標題，例如 `G20 때 홍콩 문제 알리자…홍콩 시민들 릴레이 시위 예고`\n",
        "- `topic`: 該新聞的主題，例如 `사회`\n",
        "\n",
        "`tppic` 有 7 種可能：\n",
        "- `IT과학`: 資訊與科技\n",
        "- `경제`: 經濟\n",
        "- `사회`: 社會\n",
        "- `생활문화`: 生活文化\n",
        "- `세계`: 國際\n",
        "- `스포츠`: 運動\n",
        "- `정치`: 政治\n",
        "\n",
        "目標是要用訓練資料集來訓練一個模型，輸入一個新聞標題，輸出一個預測的主題（上述 7 種的其中一個），並且用預測測試集來計算準確率 (Accuracy)。\n",
        "\n",
        "Outlines\n",
        "- 實作的流程包含：簡易的資料分析、資料前處理、模型訓練與驗證、精準度評估\n",
        "- 使用 ScikitLearn 的 `accuracy_score()` 作為 accuracy 的計算\n",
        "- Futureworks"
      ]
    },
    {
      "cell_type": "markdown",
      "metadata": {
        "id": "R_QV5a_N0cTZ"
      },
      "source": [
        "# Import"
      ]
    },
    {
      "cell_type": "code",
      "execution_count": null,
      "metadata": {
        "id": "sUddvwHU0P7X"
      },
      "outputs": [],
      "source": [
        "!pip install -U \"tensorflow-text==2.13.*\"\n",
        "!pip install \"tf-models-official==2.13.*\""
      ]
    },
    {
      "cell_type": "code",
      "execution_count": null,
      "metadata": {
        "colab": {
          "base_uri": "https://localhost:8080/"
        },
        "id": "Lw18j4UNeT8F",
        "outputId": "54d89f49-fed1-4b38-fb05-e88420e9adb8"
      },
      "outputs": [
        {
          "output_type": "stream",
          "name": "stdout",
          "text": [
            "Mounted at /content/drive\n"
          ]
        }
      ],
      "source": [
        "from google.colab import drive\n",
        "drive.mount('/content/drive')"
      ]
    },
    {
      "cell_type": "code",
      "execution_count": null,
      "metadata": {
        "colab": {
          "base_uri": "https://localhost:8080/"
        },
        "id": "WtxB0O3wmtP3",
        "outputId": "053abb81-9d22-4e41-a057-5fcf631a0fb3"
      },
      "outputs": [
        {
          "output_type": "stream",
          "name": "stdout",
          "text": [
            "Version:  2.13.1\n",
            "Eager mode:  True\n",
            "Hub version:  0.16.1\n",
            "GPU is NOT AVAILABLE\n"
          ]
        }
      ],
      "source": [
        "import os\n",
        "import numpy as np\n",
        "import shutil\n",
        "\n",
        "import pandas as pd\n",
        "import tensorflow as tf\n",
        "import tensorflow_hub as hub\n",
        "import tensorflow_text as text\n",
        "from official.nlp import optimization  # to create AdamW optimizer\n",
        "import tensorflow_datasets as tfds\n",
        "import matplotlib.pyplot as plt\n",
        "\n",
        "AUTOTUNE = tf.data.AUTOTUNE\n",
        "\n",
        "print(\"Version: \", tf.__version__)\n",
        "print(\"Eager mode: \", tf.executing_eagerly())\n",
        "print(\"Hub version: \", hub.__version__)\n",
        "print(\"GPU is\", \"available\" if tf.config.list_physical_devices(\"GPU\") else \"NOT AVAILABLE\")\n",
        "\n",
        "tf.get_logger().setLevel('ERROR')"
      ]
    },
    {
      "cell_type": "markdown",
      "metadata": {
        "id": "pJ6kFjic3dg9"
      },
      "source": [
        "# 思路及流程\n"
      ]
    },
    {
      "cell_type": "markdown",
      "metadata": {
        "id": "lkcg6nz43jip"
      },
      "source": [
        "此為純文字分類問題。\n",
        "\n",
        "Given 大約 1~2 個晚上的 time constraint，比較有效的方式是找一個 pre-trained language model，該模型必須能 output 韓文的 sentence embedding，接著 apply transfer learning 去訓練分類的 task。 詳細流程如下：\n",
        "\n",
        "*   需求理解\n",
        "*   資料分析 (EDA)\n",
        "*   資料前處理 (Preprocess)\n",
        "*   Proof of Concept (設計小模型，MVP 概念驗證、快速迭代)\n",
        "*   Model Design and Training\n",
        "*   Evaluation\n",
        "\n",
        "### TL;DR;\n",
        "\n",
        "Best model，evaluation 數據如下:\n",
        "- accuracy: 0.7910\n",
        "- f1_macro: 0.7916\n",
        "\n"
      ]
    },
    {
      "cell_type": "markdown",
      "metadata": {
        "id": "PNYs3mPE7wOb"
      },
      "source": [
        "# 需求理解\n",
        "\n",
        "\n",
        "\n",
        "\n"
      ]
    },
    {
      "cell_type": "markdown",
      "source": [
        "## 定義問題\n",
        "\n",
        "Given koerean news title x, output it's category. (There're 7 categories in total)\n",
        "\n",
        "## 制定 evaluation metric\n",
        "\n",
        "分類問題大多會以 accuracy 作為評量 model 好壞的標準。 不過仔細看了 YNAT dataset 後，官方的比賽也有以 marco F1-Score 作為衡量標準的方式。 詳細說明如下：\n",
        "\n",
        "*   F1 score 是 percision 和 recall 的幾何平均\n",
        "*   percision: 在所有預測為 positive 的結果中，有多少比例為 true positive\n",
        "*   recall: 模型預測出的 true positive 佔資料的真實 true positive 的比例\n",
        "*   模型同時有高的 percision 和 recall，才能得到高的 F1 score\n",
        "*   Marco F1 score 是計算完 class-wise 的 F1 Score 後，再取平均"
      ],
      "metadata": {
        "id": "F8tF7nN5c0zA"
      }
    },
    {
      "cell_type": "code",
      "execution_count": null,
      "metadata": {
        "id": "DB-wqveL1rO0"
      },
      "outputs": [],
      "source": [
        "class F1Macro(tf.keras.metrics.F1Score):\n",
        "\n",
        "    def __init__(self, name='f1_macro', **kwargs):\n",
        "        super().__init__(name=name, average = 'macro')\n",
        "\n",
        "    def update_state(self, y_true, y_pred, sample_weight=None):\n",
        "        super().update_state(y_test, y_pred)\n",
        "\n",
        "    def result(self):\n",
        "        return super().result()"
      ]
    },
    {
      "cell_type": "markdown",
      "metadata": {
        "id": "YrOOL6JR0vGV"
      },
      "source": [
        "# Acquire Data"
      ]
    },
    {
      "cell_type": "code",
      "execution_count": null,
      "metadata": {
        "id": "828iLFuYhZKj"
      },
      "outputs": [],
      "source": [
        "# Load training data set.\n",
        "train_df = pd.read_csv(\"https://github.com/lush93gh/korean_news_topic_classification/raw/refs/heads/main/train.csv\")\n",
        "# Load validation data set.\n",
        "val_df = pd.read_csv(\"https://github.com/lush93gh/korean_news_topic_classification/raw/refs/heads/main/val.csv\")\n",
        "# Load testing data set.\n",
        "test_df = pd.read_csv(\"test\")"
      ]
    },
    {
      "cell_type": "markdown",
      "metadata": {
        "id": "oIlq5FYZ1CTd"
      },
      "source": [
        "# Analyze by describing data"
      ]
    },
    {
      "cell_type": "markdown",
      "metadata": {
        "id": "8bJsPkpq2LeY"
      },
      "source": [
        "查看資料"
      ]
    },
    {
      "cell_type": "code",
      "execution_count": null,
      "metadata": {
        "id": "tWUgli9Q1FEB",
        "colab": {
          "base_uri": "https://localhost:8080/"
        },
        "outputId": "c5d2c65d-28e1-4bef-ea41-7b94e6821a47"
      },
      "outputs": [
        {
          "output_type": "stream",
          "name": "stdout",
          "text": [
            "Training data (first 10 samples):\n",
            "   id                             title topic\n",
            "0   0                    제6회 국제주택도시금융포럼    사회\n",
            "1   1           현대상선 용선료 협상 타결돼도 산 넘어 산    사회\n",
            "2   2          우주 풀어야 할 숙제 많은 곳…95%는 몰라  IT과학\n",
            "3   3  G20 때 홍콩 문제 알리자…홍콩 시민들 릴레이 시위 예고    세계\n",
            "4   4    2분기 전국 아파트값 5년만에 최대폭 하락…서울은 올라    경제\n",
            "5   5                     NBIoT 기술시연 행사  IT과학\n",
            "6   6         부산항 북항 크루즈 부두 넓힌다…대형선박 수용    경제\n",
            "7   7  최장신 거포 러츠의 압도적 높이…GS칼텍스 고공 배구...   스포츠\n",
            "8   8     김윤식 신협중앙회장 전국 순회로 615개 이사장 만나    사회\n",
            "9   9        황총리 국방과학연구소 방문…국가안보 역할 해달라    정치\n",
            "Validation data (first 10 samples):\n",
            "      id                              title topic\n",
            "0  40000  여야 개헌 기싸움 팽팽…정의장4개 교섭단체 원내대표 첫 회동    정치\n",
            "1  40001       北 조선중앙TV 당대회 김정은 총화보고 녹화방송3보    정치\n",
            "2  40002       축구신 메시 4년 만에 라리가 최고골잡이 복귀 눈앞   스포츠\n",
            "3  40003         제임스 떠난 클리블랜드 속절없는 개막 후 4연패   스포츠\n",
            "4  40004      유희관 내 친화력으로 린드블럼·후랭코프 적응 도울 것   스포츠\n",
            "5  40005                  눈길 빙판길 추위에 출근길 비상  생활문화\n",
            "6  40006  영상 검찰 김학의 뇌물의혹 강제수사 착수…자택·별장 압수수색    사회\n",
            "7  40007   서울시 4일 민주노총 집회 취소 공식요청…강행 시 행정명령    사회\n",
            "8  40008        현대캐피탈·삼성화재 여름밤에 펼치는 배구 라이벌전   스포츠\n",
            "9  40009    지방서 새누리당 탄핵 동참 촉구 이어져…일부는 동참 반대    정치\n",
            "Testing data (first 10 samples):\n",
            "      id                                title topic\n",
            "0  45000               섀도보팅 없어서…반복되는 정족수 미달사태    경제\n",
            "1  45001      박항서 감독의 베트남 미얀마와 00 무승부…조 2위 유지   스포츠\n",
            "2  45002       연평균 2천만달러 류현진 4년 8천만달러에 토론토행종합   스포츠\n",
            "3  45003  北 무수단 발사 6번째 발사 만에 결함보완…도발 위협 현실화종합    정치\n",
            "4  45004         하나금투 KTG 신종담배 쥴 우려 벗어나…매수 적기    경제\n",
            "5  45005    뮬러보고서 공개 후 트럼프 지지율 39%로 추락…임기중 최저    세계\n",
            "6  45006          최지만 4타수 1안타…파울 타구에 발등 맞고 교체   스포츠\n",
            "7  45007            대구∼타이베이 하늘길 활짝…5월 정기노선 취항  생활문화\n",
            "8  45008      LGU 고객센터 챗봇 도입 6개월만에 모바일 상담 9배↑    경제\n",
            "9  45009    中 지난 5년간 90차례 위성로켓 발사…올해 20여차례 예정    세계\n"
          ]
        }
      ],
      "source": [
        "print(\"Training data (first 10 samples):\")\n",
        "print(train_df.head(10))\n",
        "print(\"Validation data (first 10 samples):\")\n",
        "print(val_df.head(10))\n",
        "print(\"Testing data (first 10 samples):\")\n",
        "print(test_df.head(10))"
      ]
    },
    {
      "cell_type": "markdown",
      "metadata": {
        "id": "KEYzFvKX2JqH"
      },
      "source": [
        "檢查資料型態"
      ]
    },
    {
      "cell_type": "code",
      "execution_count": null,
      "metadata": {
        "id": "C6hoK0nF1Oq3",
        "colab": {
          "base_uri": "https://localhost:8080/"
        },
        "outputId": "3015f45c-f4fd-4fdf-a0bd-8f59ccd5a080"
      },
      "outputs": [
        {
          "output_type": "stream",
          "name": "stdout",
          "text": [
            "<class 'pandas.core.frame.DataFrame'>\n",
            "RangeIndex: 40000 entries, 0 to 39999\n",
            "Data columns (total 3 columns):\n",
            " #   Column  Non-Null Count  Dtype \n",
            "---  ------  --------------  ----- \n",
            " 0   id      40000 non-null  int64 \n",
            " 1   title   40000 non-null  object\n",
            " 2   topic   40000 non-null  object\n",
            "dtypes: int64(1), object(2)\n",
            "memory usage: 937.6+ KB\n",
            "________________________________________\n",
            "<class 'pandas.core.frame.DataFrame'>\n",
            "RangeIndex: 5000 entries, 0 to 4999\n",
            "Data columns (total 3 columns):\n",
            " #   Column  Non-Null Count  Dtype \n",
            "---  ------  --------------  ----- \n",
            " 0   id      5000 non-null   int64 \n",
            " 1   title   5000 non-null   object\n",
            " 2   topic   5000 non-null   object\n",
            "dtypes: int64(1), object(2)\n",
            "memory usage: 117.3+ KB\n",
            "________________________________________\n",
            "<class 'pandas.core.frame.DataFrame'>\n",
            "RangeIndex: 5000 entries, 0 to 4999\n",
            "Data columns (total 3 columns):\n",
            " #   Column  Non-Null Count  Dtype \n",
            "---  ------  --------------  ----- \n",
            " 0   id      5000 non-null   int64 \n",
            " 1   title   5000 non-null   object\n",
            " 2   topic   5000 non-null   object\n",
            "dtypes: int64(1), object(2)\n",
            "memory usage: 117.3+ KB\n"
          ]
        }
      ],
      "source": [
        "train_df.info()\n",
        "print('_'*40)\n",
        "val_df.info()\n",
        "print('_'*40)\n",
        "test_df.info()"
      ]
    },
    {
      "cell_type": "markdown",
      "metadata": {
        "id": "caYX3It42CJ4"
      },
      "source": [
        "看一下資料分佈，每個新聞 title 都是不同的"
      ]
    },
    {
      "cell_type": "code",
      "execution_count": null,
      "metadata": {
        "id": "g4gN72qC1_rV",
        "colab": {
          "base_uri": "https://localhost:8080/",
          "height": 175
        },
        "outputId": "46872ea3-bed2-4eba-dfcd-8782a22b6e7f"
      },
      "outputs": [
        {
          "output_type": "execute_result",
          "data": {
            "text/plain": [
              "                 title  topic\n",
              "count            40000  40000\n",
              "unique           40000      7\n",
              "top     제6회 국제주택도시금융포럼     세계\n",
              "freq                 1   6678"
            ],
            "text/html": [
              "\n",
              "  <div id=\"df-b38add28-2ae5-4928-8ecb-6c161f55992f\" class=\"colab-df-container\">\n",
              "    <div>\n",
              "<style scoped>\n",
              "    .dataframe tbody tr th:only-of-type {\n",
              "        vertical-align: middle;\n",
              "    }\n",
              "\n",
              "    .dataframe tbody tr th {\n",
              "        vertical-align: top;\n",
              "    }\n",
              "\n",
              "    .dataframe thead th {\n",
              "        text-align: right;\n",
              "    }\n",
              "</style>\n",
              "<table border=\"1\" class=\"dataframe\">\n",
              "  <thead>\n",
              "    <tr style=\"text-align: right;\">\n",
              "      <th></th>\n",
              "      <th>title</th>\n",
              "      <th>topic</th>\n",
              "    </tr>\n",
              "  </thead>\n",
              "  <tbody>\n",
              "    <tr>\n",
              "      <th>count</th>\n",
              "      <td>40000</td>\n",
              "      <td>40000</td>\n",
              "    </tr>\n",
              "    <tr>\n",
              "      <th>unique</th>\n",
              "      <td>40000</td>\n",
              "      <td>7</td>\n",
              "    </tr>\n",
              "    <tr>\n",
              "      <th>top</th>\n",
              "      <td>제6회 국제주택도시금융포럼</td>\n",
              "      <td>세계</td>\n",
              "    </tr>\n",
              "    <tr>\n",
              "      <th>freq</th>\n",
              "      <td>1</td>\n",
              "      <td>6678</td>\n",
              "    </tr>\n",
              "  </tbody>\n",
              "</table>\n",
              "</div>\n",
              "    <div class=\"colab-df-buttons\">\n",
              "\n",
              "  <div class=\"colab-df-container\">\n",
              "    <button class=\"colab-df-convert\" onclick=\"convertToInteractive('df-b38add28-2ae5-4928-8ecb-6c161f55992f')\"\n",
              "            title=\"Convert this dataframe to an interactive table.\"\n",
              "            style=\"display:none;\">\n",
              "\n",
              "  <svg xmlns=\"http://www.w3.org/2000/svg\" height=\"24px\" viewBox=\"0 -960 960 960\">\n",
              "    <path d=\"M120-120v-720h720v720H120Zm60-500h600v-160H180v160Zm220 220h160v-160H400v160Zm0 220h160v-160H400v160ZM180-400h160v-160H180v160Zm440 0h160v-160H620v160ZM180-180h160v-160H180v160Zm440 0h160v-160H620v160Z\"/>\n",
              "  </svg>\n",
              "    </button>\n",
              "\n",
              "  <style>\n",
              "    .colab-df-container {\n",
              "      display:flex;\n",
              "      gap: 12px;\n",
              "    }\n",
              "\n",
              "    .colab-df-convert {\n",
              "      background-color: #E8F0FE;\n",
              "      border: none;\n",
              "      border-radius: 50%;\n",
              "      cursor: pointer;\n",
              "      display: none;\n",
              "      fill: #1967D2;\n",
              "      height: 32px;\n",
              "      padding: 0 0 0 0;\n",
              "      width: 32px;\n",
              "    }\n",
              "\n",
              "    .colab-df-convert:hover {\n",
              "      background-color: #E2EBFA;\n",
              "      box-shadow: 0px 1px 2px rgba(60, 64, 67, 0.3), 0px 1px 3px 1px rgba(60, 64, 67, 0.15);\n",
              "      fill: #174EA6;\n",
              "    }\n",
              "\n",
              "    .colab-df-buttons div {\n",
              "      margin-bottom: 4px;\n",
              "    }\n",
              "\n",
              "    [theme=dark] .colab-df-convert {\n",
              "      background-color: #3B4455;\n",
              "      fill: #D2E3FC;\n",
              "    }\n",
              "\n",
              "    [theme=dark] .colab-df-convert:hover {\n",
              "      background-color: #434B5C;\n",
              "      box-shadow: 0px 1px 3px 1px rgba(0, 0, 0, 0.15);\n",
              "      filter: drop-shadow(0px 1px 2px rgba(0, 0, 0, 0.3));\n",
              "      fill: #FFFFFF;\n",
              "    }\n",
              "  </style>\n",
              "\n",
              "    <script>\n",
              "      const buttonEl =\n",
              "        document.querySelector('#df-b38add28-2ae5-4928-8ecb-6c161f55992f button.colab-df-convert');\n",
              "      buttonEl.style.display =\n",
              "        google.colab.kernel.accessAllowed ? 'block' : 'none';\n",
              "\n",
              "      async function convertToInteractive(key) {\n",
              "        const element = document.querySelector('#df-b38add28-2ae5-4928-8ecb-6c161f55992f');\n",
              "        const dataTable =\n",
              "          await google.colab.kernel.invokeFunction('convertToInteractive',\n",
              "                                                    [key], {});\n",
              "        if (!dataTable) return;\n",
              "\n",
              "        const docLinkHtml = 'Like what you see? Visit the ' +\n",
              "          '<a target=\"_blank\" href=https://colab.research.google.com/notebooks/data_table.ipynb>data table notebook</a>'\n",
              "          + ' to learn more about interactive tables.';\n",
              "        element.innerHTML = '';\n",
              "        dataTable['output_type'] = 'display_data';\n",
              "        await google.colab.output.renderOutput(dataTable, element);\n",
              "        const docLink = document.createElement('div');\n",
              "        docLink.innerHTML = docLinkHtml;\n",
              "        element.appendChild(docLink);\n",
              "      }\n",
              "    </script>\n",
              "  </div>\n",
              "\n",
              "\n",
              "<div id=\"df-134a9857-8b56-42f2-ba75-5728a37a88f2\">\n",
              "  <button class=\"colab-df-quickchart\" onclick=\"quickchart('df-134a9857-8b56-42f2-ba75-5728a37a88f2')\"\n",
              "            title=\"Suggest charts\"\n",
              "            style=\"display:none;\">\n",
              "\n",
              "<svg xmlns=\"http://www.w3.org/2000/svg\" height=\"24px\"viewBox=\"0 0 24 24\"\n",
              "     width=\"24px\">\n",
              "    <g>\n",
              "        <path d=\"M19 3H5c-1.1 0-2 .9-2 2v14c0 1.1.9 2 2 2h14c1.1 0 2-.9 2-2V5c0-1.1-.9-2-2-2zM9 17H7v-7h2v7zm4 0h-2V7h2v10zm4 0h-2v-4h2v4z\"/>\n",
              "    </g>\n",
              "</svg>\n",
              "  </button>\n",
              "\n",
              "<style>\n",
              "  .colab-df-quickchart {\n",
              "      --bg-color: #E8F0FE;\n",
              "      --fill-color: #1967D2;\n",
              "      --hover-bg-color: #E2EBFA;\n",
              "      --hover-fill-color: #174EA6;\n",
              "      --disabled-fill-color: #AAA;\n",
              "      --disabled-bg-color: #DDD;\n",
              "  }\n",
              "\n",
              "  [theme=dark] .colab-df-quickchart {\n",
              "      --bg-color: #3B4455;\n",
              "      --fill-color: #D2E3FC;\n",
              "      --hover-bg-color: #434B5C;\n",
              "      --hover-fill-color: #FFFFFF;\n",
              "      --disabled-bg-color: #3B4455;\n",
              "      --disabled-fill-color: #666;\n",
              "  }\n",
              "\n",
              "  .colab-df-quickchart {\n",
              "    background-color: var(--bg-color);\n",
              "    border: none;\n",
              "    border-radius: 50%;\n",
              "    cursor: pointer;\n",
              "    display: none;\n",
              "    fill: var(--fill-color);\n",
              "    height: 32px;\n",
              "    padding: 0;\n",
              "    width: 32px;\n",
              "  }\n",
              "\n",
              "  .colab-df-quickchart:hover {\n",
              "    background-color: var(--hover-bg-color);\n",
              "    box-shadow: 0 1px 2px rgba(60, 64, 67, 0.3), 0 1px 3px 1px rgba(60, 64, 67, 0.15);\n",
              "    fill: var(--button-hover-fill-color);\n",
              "  }\n",
              "\n",
              "  .colab-df-quickchart-complete:disabled,\n",
              "  .colab-df-quickchart-complete:disabled:hover {\n",
              "    background-color: var(--disabled-bg-color);\n",
              "    fill: var(--disabled-fill-color);\n",
              "    box-shadow: none;\n",
              "  }\n",
              "\n",
              "  .colab-df-spinner {\n",
              "    border: 2px solid var(--fill-color);\n",
              "    border-color: transparent;\n",
              "    border-bottom-color: var(--fill-color);\n",
              "    animation:\n",
              "      spin 1s steps(1) infinite;\n",
              "  }\n",
              "\n",
              "  @keyframes spin {\n",
              "    0% {\n",
              "      border-color: transparent;\n",
              "      border-bottom-color: var(--fill-color);\n",
              "      border-left-color: var(--fill-color);\n",
              "    }\n",
              "    20% {\n",
              "      border-color: transparent;\n",
              "      border-left-color: var(--fill-color);\n",
              "      border-top-color: var(--fill-color);\n",
              "    }\n",
              "    30% {\n",
              "      border-color: transparent;\n",
              "      border-left-color: var(--fill-color);\n",
              "      border-top-color: var(--fill-color);\n",
              "      border-right-color: var(--fill-color);\n",
              "    }\n",
              "    40% {\n",
              "      border-color: transparent;\n",
              "      border-right-color: var(--fill-color);\n",
              "      border-top-color: var(--fill-color);\n",
              "    }\n",
              "    60% {\n",
              "      border-color: transparent;\n",
              "      border-right-color: var(--fill-color);\n",
              "    }\n",
              "    80% {\n",
              "      border-color: transparent;\n",
              "      border-right-color: var(--fill-color);\n",
              "      border-bottom-color: var(--fill-color);\n",
              "    }\n",
              "    90% {\n",
              "      border-color: transparent;\n",
              "      border-bottom-color: var(--fill-color);\n",
              "    }\n",
              "  }\n",
              "</style>\n",
              "\n",
              "  <script>\n",
              "    async function quickchart(key) {\n",
              "      const quickchartButtonEl =\n",
              "        document.querySelector('#' + key + ' button');\n",
              "      quickchartButtonEl.disabled = true;  // To prevent multiple clicks.\n",
              "      quickchartButtonEl.classList.add('colab-df-spinner');\n",
              "      try {\n",
              "        const charts = await google.colab.kernel.invokeFunction(\n",
              "            'suggestCharts', [key], {});\n",
              "      } catch (error) {\n",
              "        console.error('Error during call to suggestCharts:', error);\n",
              "      }\n",
              "      quickchartButtonEl.classList.remove('colab-df-spinner');\n",
              "      quickchartButtonEl.classList.add('colab-df-quickchart-complete');\n",
              "    }\n",
              "    (() => {\n",
              "      let quickchartButtonEl =\n",
              "        document.querySelector('#df-134a9857-8b56-42f2-ba75-5728a37a88f2 button');\n",
              "      quickchartButtonEl.style.display =\n",
              "        google.colab.kernel.accessAllowed ? 'block' : 'none';\n",
              "    })();\n",
              "  </script>\n",
              "</div>\n",
              "\n",
              "    </div>\n",
              "  </div>\n"
            ],
            "application/vnd.google.colaboratory.intrinsic+json": {
              "type": "dataframe",
              "summary": "{\n  \"name\": \"train_df\",\n  \"rows\": 4,\n  \"fields\": [\n    {\n      \"column\": \"title\",\n      \"properties\": {\n        \"dtype\": \"string\",\n        \"num_unique_values\": 3,\n        \"samples\": [\n          \"40000\",\n          \"\\uc81c6\\ud68c \\uad6d\\uc81c\\uc8fc\\ud0dd\\ub3c4\\uc2dc\\uae08\\uc735\\ud3ec\\ub7fc\",\n          \"1\"\n        ],\n        \"semantic_type\": \"\",\n        \"description\": \"\"\n      }\n    },\n    {\n      \"column\": \"topic\",\n      \"properties\": {\n        \"dtype\": \"string\",\n        \"num_unique_values\": 4,\n        \"samples\": [\n          7,\n          \"6678\",\n          \"40000\"\n        ],\n        \"semantic_type\": \"\",\n        \"description\": \"\"\n      }\n    }\n  ]\n}"
            }
          },
          "metadata": {},
          "execution_count": 9
        }
      ],
      "source": [
        "train_df.describe(include=['O'])"
      ]
    },
    {
      "cell_type": "markdown",
      "metadata": {
        "id": "Tm7OzoVW2WuD"
      },
      "source": [
        "# Preporcess Data"
      ]
    },
    {
      "cell_type": "markdown",
      "metadata": {
        "id": "egA86jrfDbLa"
      },
      "source": [
        "前處理重點：\n",
        "\n",
        "- 移除 `title` 的標點符號：因為新聞標題中的標點符號，對於這篇新聞是哪一類型的影響應該是小的。 所以這邊做移除標點符號的處理。\n",
        "- 將 `topic` 轉換為數字，以利模型做分類\n",
        "- 其餘事項如 tokenization, vectorization 等，均交由 embedding model 來處理。\n",
        "\n",
        "* 這邊實測的結果是，後續步驟所採用的幾個 embedding model，內建文本的前處理。 即便不移除標點符號，對 embedding 的影響也偏低。\n",
        "\n",
        "(有無前處理的差異，可以計算兩種方式得出的 embedding 之 cosine simmarility，在此處不特別列出)\n",
        "\n",
        "```\n",
        "print(np.matmul(raw_embeds, np.transpose(processed_embeds)))\n",
        "```"
      ]
    },
    {
      "cell_type": "code",
      "execution_count": null,
      "metadata": {
        "id": "NYI0HMNvVyEg"
      },
      "outputs": [],
      "source": [
        "import string\n",
        "def remove_punctuation(input_string):\n",
        "    translator = str.maketrans('', '', string.punctuation)\n",
        "\n",
        "    no_punct = input_string.translate(translator)\n",
        "    return no_punct\n",
        "\n",
        "remove_punctuation('최장신 거포 러츠의 압도적 높이…GS칼텍스 고공 배구...')"
      ]
    },
    {
      "cell_type": "code",
      "execution_count": null,
      "metadata": {
        "colab": {
          "base_uri": "https://localhost:8080/"
        },
        "id": "XwIxBDANTXa0",
        "outputId": "acf26f8b-14c2-47e1-a9d8-96e94bd9e05e"
      },
      "outputs": [
        {
          "data": {
            "text/plain": [
              "0                      제6회 국제주택도시금융포럼\n",
              "1             현대상선 용선료 협상 타결돼도 산 넘어 산\n",
              "2             우주 풀어야 할 숙제 많은 곳…95는 몰라\n",
              "3    G20 때 홍콩 문제 알리자…홍콩 시민들 릴레이 시위 예고\n",
              "4      2분기 전국 아파트값 5년만에 최대폭 하락…서울은 올라\n",
              "Name: title, dtype: object"
            ]
          },
          "execution_count": 219,
          "metadata": {},
          "output_type": "execute_result"
        }
      ],
      "source": [
        "train_df['title'] = train_df['title'].map(remove_punctuation)\n",
        "val_df['title'] = val_df['title'].map(remove_punctuation)\n",
        "test_df['title'] = test_df['title'].map(remove_punctuation)\n",
        "\n",
        "train_df['title'].head()"
      ]
    },
    {
      "cell_type": "code",
      "execution_count": null,
      "metadata": {
        "colab": {
          "base_uri": "https://localhost:8080/"
        },
        "id": "Pei96wyNvKUf",
        "outputId": "baaeb919-cb33-461c-e9e6-90a22dc9128c"
      },
      "outputs": [
        {
          "output_type": "execute_result",
          "data": {
            "text/plain": [
              "0    2\n",
              "1    2\n",
              "2    5\n",
              "3    4\n",
              "4    1\n",
              "Name: topic, dtype: int64"
            ]
          },
          "metadata": {},
          "execution_count": 10
        }
      ],
      "source": [
        "label2idx = {\"정치\": 0, \"경제\": 1, \"사회\": 2, \"생활문화\": 3, \"세계\": 4, \"IT과학\": 5, \"스포츠\": 6}\n",
        "\n",
        "train_df['topic'] = train_df['topic'].map(label2idx)\n",
        "val_df['topic'] = val_df['topic'].map(label2idx)\n",
        "test_df['topic'] = test_df['topic'].map(label2idx)\n",
        "\n",
        "train_df['topic'].head()"
      ]
    },
    {
      "cell_type": "code",
      "execution_count": null,
      "metadata": {
        "id": "zeZRrqhmuZgO"
      },
      "outputs": [],
      "source": [
        "train_features = tf.convert_to_tensor(train_df['title'],dtype=tf.string)\n",
        "train_target = tf.convert_to_tensor(train_df['topic'], dtype=tf.int64)\n",
        "train_data = tf.data.Dataset.from_tensor_slices((train_df['title'], train_df['topic']))\n",
        "train_data = train_data.cache().shuffle(40000).batch(64).prefetch(buffer_size=AUTOTUNE)"
      ]
    },
    {
      "cell_type": "code",
      "execution_count": null,
      "metadata": {
        "id": "iHCeU_EnwDkJ"
      },
      "outputs": [],
      "source": [
        "val_features = tf.convert_to_tensor(val_df['title'], dtype=tf.string)\n",
        "val_target = tf.convert_to_tensor(val_df['topic'], dtype=tf.int64)\n",
        "validation_data = tf.data.Dataset.from_tensor_slices((val_df['title'], val_df['topic']))\n",
        "validation_data = validation_data.cache().batch(512).prefetch(buffer_size=AUTOTUNE)"
      ]
    },
    {
      "cell_type": "code",
      "execution_count": null,
      "metadata": {
        "id": "f-SlLwhpwzyt"
      },
      "outputs": [],
      "source": [
        "test_features = tf.convert_to_tensor(test_df['title'],dtype=tf.string)\n",
        "test_target = tf.convert_to_tensor(test_df['topic'], dtype=tf.int64)\n",
        "test_data = tf.data.Dataset.from_tensor_slices((test_df['title'], test_df['topic']))\n",
        "test_data = test_data.cache().batch(5000).prefetch(buffer_size=AUTOTUNE)\n",
        "\n",
        "y_test = tf.one_hot(test_df['topic'], 7)"
      ]
    },
    {
      "cell_type": "markdown",
      "metadata": {
        "id": "bqA49-le9UjJ"
      },
      "source": [
        "# Proof of Concept"
      ]
    },
    {
      "cell_type": "markdown",
      "metadata": {
        "id": "oUfr285MFVH4"
      },
      "source": [
        "POC 階段選了一個比較輕量的 embedding model： Google NNLM\n",
        "\n",
        "一開始選 `ko-dim50-with-normalization` 的 model，該模型可以將文字轉換為 1D-50 維的 vector。 embedding model 本身是由 Korean Google News 15B corpus 訓練而成。 非常適合本次分類的 task。\n",
        "\n",
        "之後實驗將 base model 改為 `ko-dim128-with-normalization`，發現準確率有顯著提升 (約 5%)。 **可見找到好的 sentence embedding 對於訓練分類模型是有顯著效益的**。 因為這邊的 transfer learning 是 given 一個 sentence embedding，分類模型要去 maximize 分類正確的 likelihood。 所以作為 prior 的 embedding 越能精準表達 latent space 的 manifold 越好。\n",
        "\n",
        "順帶一提，有 normalization 版本的 nnlm model，會對 text 做前處理。包含移除標點符號、根據空格斷詞等。"
      ]
    },
    {
      "cell_type": "code",
      "execution_count": null,
      "metadata": {
        "id": "TRKCE1jaoZWZ"
      },
      "outputs": [],
      "source": [
        "embedding = \"https://www.kaggle.com/models/google/nnlm/TensorFlow2/ko-dim128-with-normalization/1\"\n",
        "hub_layer = hub.KerasLayer(embedding, input_shape=[],\n",
        "                           dtype=tf.string, trainable=False)"
      ]
    },
    {
      "cell_type": "markdown",
      "metadata": {
        "id": "EcKpHqzoGkau"
      },
      "source": [
        "## 模型設計迭代\n",
        "\n",
        "因為 base model 已經能產生不錯的 sentence embedding，這邊要迭代驗證的項目如下：\n",
        "\n",
        "1.   Classifier 的設計\n",
        "2.   Dropout layer 的選擇\n",
        "3.   activation function 的選擇\n",
        "4.   Normalization Layer 的設計\n",
        "\n",
        "衡量的方式是計算 test dataset 的 accuracy。\n",
        "\n",
        "** 抱歉，因為過程中忘記紀錄每一種方法的數據了。 POC 階段得到最好的結果如底下 code block。\n",
        "\n",
        "### 1. Classifier 的設計\n",
        "\n",
        "將 sentence embedding 映射(map)成新聞分類的 logits，是 classifier 主要的任務。 這邊探網路討架構的設計。 最終版本如以下 code block。 嘗試過的架構有：\n",
        "\n",
        "1. 直接進行分類 (feed-forward to 7 neurons)\n",
        "2. 過一層 hidden layer (64 neurons)，再進行分類 (feed-forward to 7 neurons)\n",
        "3. 逐步增加 hidden layer 的數量，每層遞減。\n",
        "4. 以 RNN 作為 decoder\n",
        "5. 以 Transformer 作為 Decoder\n",
        "\n",
        "其中， 4 和 5 會讓訓練變慢，成效也比目前最好的架構差很多。 反覆嘗試 1~3 的方式後，發現以 2 的倍數逐層遞減 number of neurons，會得到最高的準確率。\n",
        "\n",
        "### 2. Dropout layer 的選擇\n",
        "\n",
        "將 dropout layer 加在 embedding layer 後，可以隨機隱藏一些 features，讓 Classifier 的 input 減少對 embedding features 的依賴，藉此達到較好的 generalization。\n",
        "\n",
        "經測量後，128 維度的 embeddings，採用 25% 的 dropout rate 能得到最好的 test accuracy。\n",
        "\n",
        "### 3. Activation function 的選擇\n",
        "\n",
        "這邊實測了 activation function 對 accuracy 的影響。 發現 Swish(silu) Activation 相較於 ReLu，能提升 1% 的 accuracy。\n",
        "\n",
        "測試過的 activation functions：\n",
        "\n",
        "- relu\n",
        "- softplus\n",
        "- selu\n",
        "- leaky_relu\n",
        "- silu\n",
        "- gelu\n",
        "- mish\n",
        "\n",
        "### 4. Normalization Layer 的設計\n",
        "\n",
        "嘗試在每一層 Dense layer 後，加上 Normalization Layer，使訓練更穩定。 目前試過 BatchNormalization 和 LayerNormalization。 兩種方式比起不 apply normalization，均無法得出更好的 accuracy。\n",
        "\n",
        "\n",
        "### 最終得出的模型如下\n",
        "\n",
        "\n",
        "\n",
        "\n"
      ]
    },
    {
      "cell_type": "code",
      "execution_count": null,
      "metadata": {
        "colab": {
          "base_uri": "https://localhost:8080/"
        },
        "id": "_rgMxzF7qkbC",
        "outputId": "ca7b0d68-0a17-4bcd-fbc4-adb25b709cdc"
      },
      "outputs": [
        {
          "output_type": "stream",
          "name": "stdout",
          "text": [
            "Model: \"sequential\"\n",
            "_________________________________________________________________\n",
            " Layer (type)                Output Shape              Param #   \n",
            "=================================================================\n",
            " keras_layer (KerasLayer)    (None, 128)               116962560 \n",
            "                                                                 \n",
            " dropout (Dropout)           (None, 128)               0         \n",
            "                                                                 \n",
            " dense (Dense)               (None, 64)                8256      \n",
            "                                                                 \n",
            " dense_1 (Dense)             (None, 32)                2080      \n",
            "                                                                 \n",
            " dense_2 (Dense)             (None, 16)                528       \n",
            "                                                                 \n",
            " dense_3 (Dense)             (None, 7)                 119       \n",
            "                                                                 \n",
            "=================================================================\n",
            "Total params: 116973543 (446.22 MB)\n",
            "Trainable params: 10983 (42.90 KB)\n",
            "Non-trainable params: 116962560 (446.18 MB)\n",
            "_________________________________________________________________\n"
          ]
        }
      ],
      "source": [
        "model = tf.keras.Sequential()\n",
        "model.add(hub_layer)\n",
        "model.add(tf.keras.layers.Dropout(0.25))\n",
        "model.add(tf.keras.layers.Dense(64, activation='silu'))\n",
        "model.add(tf.keras.layers.Dense(32, activation='silu'))\n",
        "model.add(tf.keras.layers.Dense(16, activation='silu'))\n",
        "model.add(tf.keras.layers.Dense(7))\n",
        "\n",
        "model.summary()"
      ]
    },
    {
      "cell_type": "code",
      "execution_count": null,
      "metadata": {
        "id": "B0-ASuVzqq2B"
      },
      "outputs": [],
      "source": [
        "model.compile(optimizer='adam',\n",
        "              loss=tf.keras.losses.SparseCategoricalCrossentropy(from_logits=True),\n",
        "              metrics=[\n",
        "                  tf.keras.metrics.SparseCategoricalAccuracy(name='accuracy'),\n",
        "                  F1Macro()\n",
        "    ])"
      ]
    },
    {
      "cell_type": "code",
      "execution_count": null,
      "metadata": {
        "id": "hzDzAjxJ7InO"
      },
      "outputs": [],
      "source": [
        "checkpoint_filepath = 'drive/MyDrive/Colab Notebooks/poc.weights.h5'\n",
        "model.load_weights(checkpoint_filepath)"
      ]
    },
    {
      "cell_type": "code",
      "execution_count": null,
      "metadata": {
        "id": "l3Q1ZeXUDJGo"
      },
      "outputs": [],
      "source": [
        "def test_metric():\n",
        "  print()\n",
        "  results = model.evaluate(test_data, verbose=0)\n",
        "\n",
        "  for name, value in zip(model.metrics_names, results):\n",
        "    print(\"%s: %.4f\" % (name, value))\n",
        "\n",
        "cb = tf.keras.callbacks.LambdaCallback(on_epoch_end=lambda a, b: test_metric())\n",
        "early_stopping = tf.keras.callbacks.EarlyStopping(patience=3)\n",
        "csv_logger = tf.keras.callbacks.CSVLogger('drive/MyDrive/Colab Notebooks/poc.training.log')\n",
        "checkpoint_filepath = 'drive/MyDrive/Colab Notebooks/poc.weights.h5'\n",
        "model_checkpoint_callback = tf.keras.callbacks.ModelCheckpoint(\n",
        "    filepath=checkpoint_filepath,\n",
        "    save_weights_only=True,\n",
        "    monitor='val_accuracy',\n",
        "    mode='max',\n",
        "    save_best_only=True)"
      ]
    },
    {
      "cell_type": "markdown",
      "source": [
        "## Training"
      ],
      "metadata": {
        "id": "74jLJuvqMCna"
      }
    },
    {
      "cell_type": "code",
      "source": [
        "history = model.fit(train_data,\n",
        "                    epochs=100,\n",
        "                    validation_data=validation_data,\n",
        "                    verbose=1,\n",
        "                    callbacks=[model_checkpoint_callback, early_stopping, cb])"
      ],
      "metadata": {
        "colab": {
          "base_uri": "https://localhost:8080/"
        },
        "id": "LzYsAwteLxe6",
        "outputId": "998bed02-bef3-4db1-851a-bda8abc58289"
      },
      "execution_count": null,
      "outputs": [
        {
          "output_type": "stream",
          "name": "stdout",
          "text": [
            "Epoch 1/100\n",
            "613/625 [============================>.] - ETA: 0s - loss: 1.2190 - accuracy: 0.5671\n",
            "loss: 0.9599\n",
            "accuracy: 0.6686\n",
            "625/625 [==============================] - 6s 9ms/step - loss: 1.2148 - accuracy: 0.5684 - val_loss: 0.9553 - val_accuracy: 0.6592\n",
            "Epoch 2/100\n",
            "604/625 [===========================>..] - ETA: 0s - loss: 0.9837 - accuracy: 0.6495\n",
            "loss: 0.9132\n",
            "accuracy: 0.6818\n",
            "625/625 [==============================] - 3s 5ms/step - loss: 0.9842 - accuracy: 0.6493 - val_loss: 0.9056 - val_accuracy: 0.6850\n",
            "Epoch 3/100\n",
            "605/625 [============================>.] - ETA: 0s - loss: 0.9541 - accuracy: 0.6606\n",
            "loss: 0.8974\n",
            "accuracy: 0.6892\n",
            "625/625 [==============================] - 5s 8ms/step - loss: 0.9539 - accuracy: 0.6611 - val_loss: 0.8925 - val_accuracy: 0.6888\n",
            "Epoch 4/100\n",
            "625/625 [==============================] - ETA: 0s - loss: 0.9457 - accuracy: 0.6643\n",
            "loss: 0.8881\n",
            "accuracy: 0.6906\n",
            "625/625 [==============================] - 2s 3ms/step - loss: 0.9457 - accuracy: 0.6643 - val_loss: 0.8845 - val_accuracy: 0.6884\n",
            "Epoch 5/100\n",
            "608/625 [============================>.] - ETA: 0s - loss: 0.9403 - accuracy: 0.6632\n",
            "loss: 0.8825\n",
            "accuracy: 0.6918\n",
            "625/625 [==============================] - 6s 9ms/step - loss: 0.9394 - accuracy: 0.6632 - val_loss: 0.8812 - val_accuracy: 0.6906\n",
            "Epoch 6/100\n",
            "609/625 [============================>.] - ETA: 0s - loss: 0.9301 - accuracy: 0.6692\n",
            "loss: 0.8703\n",
            "accuracy: 0.6948\n",
            "625/625 [==============================] - 3s 5ms/step - loss: 0.9295 - accuracy: 0.6697 - val_loss: 0.8702 - val_accuracy: 0.6958\n",
            "Epoch 7/100\n",
            "622/625 [============================>.] - ETA: 0s - loss: 0.9213 - accuracy: 0.6691\n",
            "loss: 0.8649\n",
            "accuracy: 0.6976\n",
            "625/625 [==============================] - 5s 7ms/step - loss: 0.9225 - accuracy: 0.6688 - val_loss: 0.8636 - val_accuracy: 0.6980\n",
            "Epoch 8/100\n",
            "619/625 [============================>.] - ETA: 0s - loss: 0.9124 - accuracy: 0.6742\n",
            "loss: 0.8551\n",
            "accuracy: 0.6964\n",
            "625/625 [==============================] - 7s 10ms/step - loss: 0.9124 - accuracy: 0.6740 - val_loss: 0.8568 - val_accuracy: 0.6992\n",
            "Epoch 9/100\n",
            "620/625 [============================>.] - ETA: 0s - loss: 0.9056 - accuracy: 0.6758\n",
            "loss: 0.8533\n",
            "accuracy: 0.7004\n",
            "625/625 [==============================] - 2s 3ms/step - loss: 0.9055 - accuracy: 0.6755 - val_loss: 0.8515 - val_accuracy: 0.6982\n",
            "Epoch 10/100\n",
            "624/625 [============================>.] - ETA: 0s - loss: 0.9021 - accuracy: 0.6782\n",
            "loss: 0.8499\n",
            "accuracy: 0.6968\n",
            "625/625 [==============================] - 10s 16ms/step - loss: 0.9024 - accuracy: 0.6781 - val_loss: 0.8466 - val_accuracy: 0.7006\n",
            "Epoch 11/100\n",
            "625/625 [==============================] - ETA: 0s - loss: 0.8924 - accuracy: 0.6824\n",
            "loss: 0.8467\n",
            "accuracy: 0.6976\n",
            "625/625 [==============================] - 2s 3ms/step - loss: 0.8924 - accuracy: 0.6824 - val_loss: 0.8467 - val_accuracy: 0.6976\n",
            "Epoch 12/100\n",
            "615/625 [============================>.] - ETA: 0s - loss: 0.8895 - accuracy: 0.6807\n",
            "loss: 0.8439\n",
            "accuracy: 0.6978\n",
            "625/625 [==============================] - 3s 5ms/step - loss: 0.8900 - accuracy: 0.6802 - val_loss: 0.8428 - val_accuracy: 0.7014\n",
            "Epoch 13/100\n",
            "611/625 [============================>.] - ETA: 0s - loss: 0.8874 - accuracy: 0.6835\n",
            "loss: 0.8427\n",
            "accuracy: 0.6976\n",
            "625/625 [==============================] - 5s 9ms/step - loss: 0.8876 - accuracy: 0.6833 - val_loss: 0.8417 - val_accuracy: 0.7030\n",
            "Epoch 14/100\n",
            "618/625 [============================>.] - ETA: 0s - loss: 0.8846 - accuracy: 0.6842\n",
            "loss: 0.8406\n",
            "accuracy: 0.7010\n",
            "625/625 [==============================] - 3s 5ms/step - loss: 0.8841 - accuracy: 0.6845 - val_loss: 0.8388 - val_accuracy: 0.7032\n",
            "Epoch 15/100\n",
            "612/625 [============================>.] - ETA: 0s - loss: 0.8793 - accuracy: 0.6864\n",
            "loss: 0.8335\n",
            "accuracy: 0.7036\n",
            "625/625 [==============================] - 5s 8ms/step - loss: 0.8792 - accuracy: 0.6865 - val_loss: 0.8349 - val_accuracy: 0.7066\n",
            "Epoch 16/100\n",
            "617/625 [============================>.] - ETA: 0s - loss: 0.8708 - accuracy: 0.6893\n",
            "loss: 0.8389\n",
            "accuracy: 0.7010\n",
            "625/625 [==============================] - 2s 3ms/step - loss: 0.8708 - accuracy: 0.6896 - val_loss: 0.8382 - val_accuracy: 0.7034\n",
            "Epoch 17/100\n",
            "622/625 [============================>.] - ETA: 0s - loss: 0.8716 - accuracy: 0.6873\n",
            "loss: 0.8304\n",
            "accuracy: 0.7032\n",
            "625/625 [==============================] - 2s 3ms/step - loss: 0.8721 - accuracy: 0.6870 - val_loss: 0.8301 - val_accuracy: 0.7060\n",
            "Epoch 18/100\n",
            "613/625 [============================>.] - ETA: 0s - loss: 0.8662 - accuracy: 0.6873\n",
            "loss: 0.8294\n",
            "accuracy: 0.7030\n",
            "625/625 [==============================] - 2s 3ms/step - loss: 0.8665 - accuracy: 0.6877 - val_loss: 0.8281 - val_accuracy: 0.7052\n",
            "Epoch 19/100\n",
            "607/625 [============================>.] - ETA: 0s - loss: 0.8620 - accuracy: 0.6911\n",
            "loss: 0.8285\n",
            "accuracy: 0.7034\n",
            "625/625 [==============================] - 4s 6ms/step - loss: 0.8619 - accuracy: 0.6906 - val_loss: 0.8275 - val_accuracy: 0.7068\n",
            "Epoch 20/100\n",
            "621/625 [============================>.] - ETA: 0s - loss: 0.8625 - accuracy: 0.6923\n",
            "loss: 0.8268\n",
            "accuracy: 0.7022\n",
            "625/625 [==============================] - 3s 4ms/step - loss: 0.8626 - accuracy: 0.6920 - val_loss: 0.8274 - val_accuracy: 0.7062\n",
            "Epoch 21/100\n",
            "624/625 [============================>.] - ETA: 0s - loss: 0.8560 - accuracy: 0.6945\n",
            "loss: 0.8226\n",
            "accuracy: 0.7050\n",
            "625/625 [==============================] - 3s 5ms/step - loss: 0.8563 - accuracy: 0.6945 - val_loss: 0.8239 - val_accuracy: 0.7078\n",
            "Epoch 22/100\n",
            "615/625 [============================>.] - ETA: 0s - loss: 0.8563 - accuracy: 0.6943\n",
            "loss: 0.8202\n",
            "accuracy: 0.7052\n",
            "625/625 [==============================] - 8s 13ms/step - loss: 0.8563 - accuracy: 0.6946 - val_loss: 0.8205 - val_accuracy: 0.7092\n",
            "Epoch 23/100\n",
            "621/625 [============================>.] - ETA: 0s - loss: 0.8545 - accuracy: 0.6940\n",
            "loss: 0.8196\n",
            "accuracy: 0.7036\n",
            "625/625 [==============================] - 2s 3ms/step - loss: 0.8543 - accuracy: 0.6939 - val_loss: 0.8190 - val_accuracy: 0.7080\n",
            "Epoch 24/100\n",
            "608/625 [============================>.] - ETA: 0s - loss: 0.8493 - accuracy: 0.6967\n",
            "loss: 0.8226\n",
            "accuracy: 0.7078\n",
            "625/625 [==============================] - 3s 5ms/step - loss: 0.8506 - accuracy: 0.6965 - val_loss: 0.8210 - val_accuracy: 0.7118\n",
            "Epoch 25/100\n",
            "613/625 [============================>.] - ETA: 0s - loss: 0.8503 - accuracy: 0.6965\n",
            "loss: 0.8202\n",
            "accuracy: 0.7076\n",
            "625/625 [==============================] - 3s 4ms/step - loss: 0.8494 - accuracy: 0.6967 - val_loss: 0.8193 - val_accuracy: 0.7080\n",
            "Epoch 26/100\n",
            "612/625 [============================>.] - ETA: 0s - loss: 0.8453 - accuracy: 0.6984\n",
            "loss: 0.8208\n",
            "accuracy: 0.7068\n",
            "625/625 [==============================] - 2s 4ms/step - loss: 0.8461 - accuracy: 0.6984 - val_loss: 0.8277 - val_accuracy: 0.7078\n"
          ]
        }
      ]
    },
    {
      "cell_type": "markdown",
      "source": [
        "## Evaluation\n"
      ],
      "metadata": {
        "id": "RpILywLJMh97"
      }
    },
    {
      "cell_type": "code",
      "execution_count": null,
      "metadata": {
        "colab": {
          "base_uri": "https://localhost:8080/"
        },
        "id": "73F8z0Oy6wo9",
        "outputId": "76e48106-1fa1-4525-db40-1f7e4317a2f7"
      },
      "outputs": [
        {
          "output_type": "stream",
          "name": "stdout",
          "text": [
            "\n",
            "loss: 0.8208\n",
            "accuracy: 0.7068\n",
            "f1_macro: 0.7044\n"
          ]
        }
      ],
      "source": [
        "test_metric()"
      ]
    },
    {
      "cell_type": "code",
      "source": [
        "history_dict = history.history\n",
        "acc = history_dict['accuracy']\n",
        "val_acc = history_dict['val_accuracy']\n",
        "loss = history_dict['loss']\n",
        "val_loss = history_dict['val_loss']\n",
        "\n",
        "epochs = range(1, len(acc) + 1)\n",
        "\n",
        "plt.plot(epochs, loss, 'r', label='Training loss')\n",
        "plt.plot(epochs, val_loss, 'b', label='Validation loss')\n",
        "plt.title('Training and validation loss')\n",
        "plt.xlabel('Epochs')\n",
        "plt.ylabel('Loss')\n",
        "plt.legend()\n",
        "\n",
        "plt.show()"
      ],
      "metadata": {
        "colab": {
          "base_uri": "https://localhost:8080/",
          "height": 472
        },
        "id": "WY7hL8quNe6w",
        "outputId": "13c0750e-141a-400f-f07f-d23f4c82ad7d"
      },
      "execution_count": null,
      "outputs": [
        {
          "output_type": "display_data",
          "data": {
            "text/plain": [
              "<Figure size 640x480 with 1 Axes>"
            ],
            "image/png": "[encoded data removed]"
          },
          "metadata": {}
        }
      ]
    },
    {
      "cell_type": "code",
      "source": [
        "plt.plot(epochs, acc, 'r', label='Training acc')\n",
        "plt.plot(epochs, val_acc, 'b', label='Validation acc')\n",
        "plt.title('Training and validation accuracy')\n",
        "plt.xlabel('Epochs')\n",
        "plt.ylabel('Accuracy')\n",
        "plt.legend(loc='lower right')\n",
        "\n",
        "plt.show()"
      ],
      "metadata": {
        "colab": {
          "base_uri": "https://localhost:8080/",
          "height": 472
        },
        "id": "_ltyvXWBNzSy",
        "outputId": "2f139a40-43ab-490f-82cf-be8d025c7d55"
      },
      "execution_count": null,
      "outputs": [
        {
          "output_type": "display_data",
          "data": {
            "text/plain": [
              "<Figure size 640x480 with 1 Axes>"
            ],
            "image/png": "[encoded data removed]"
          },
          "metadata": {}
        }
      ]
    },
    {
      "cell_type": "markdown",
      "metadata": {
        "id": "4Dt2Z1bdGOIn"
      },
      "source": [
        "# Model Design and Training"
      ]
    },
    {
      "cell_type": "markdown",
      "metadata": {
        "id": "Uo69AVP7GaBv"
      },
      "source": [
        "經過 POC 後，選用 Google `universal-sentence-encoder` 作為 base model。\n",
        "\n",
        "這個模型是基於 deep averaging network (DAN) encoder，由 16 種語言 pretrain。 並且會輸出 1D - 512 維度的 embedding。\n",
        "\n",
        "比起使用 pre-trained BERT，以此模型做為 base model，在 transfer learning 的速度會快很多。"
      ]
    },
    {
      "cell_type": "code",
      "execution_count": null,
      "metadata": {
        "id": "xBCEM18GGbPq"
      },
      "outputs": [],
      "source": [
        "embedding = \"https://www.kaggle.com/models/google/universal-sentence-encoder/TensorFlow2/multilingual-large/2\"\n",
        "hub_layer = hub.KerasLayer(embedding, input_shape=[],\n",
        "                           dtype=tf.string, trainable=False)"
      ]
    },
    {
      "cell_type": "markdown",
      "source": [
        "模型的設計和 POC 階段相似，使用多層 feed forward layer 作為 classifier。 因為 classifier network 的 parameter 較多。\n",
        "\n",
        "這邊將 dropout rate 設定大一點。"
      ],
      "metadata": {
        "id": "QHRm0rPZ_cjX"
      }
    },
    {
      "cell_type": "code",
      "execution_count": null,
      "metadata": {
        "id": "1FMVg59DaZeN",
        "colab": {
          "base_uri": "https://localhost:8080/"
        },
        "outputId": "12b2adb4-fd86-42ad-c18c-aefdfe6e8785"
      },
      "outputs": [
        {
          "output_type": "stream",
          "name": "stdout",
          "text": [
            "Model: \"sequential_1\"\n",
            "_________________________________________________________________\n",
            " Layer (type)                Output Shape              Param #   \n",
            "=================================================================\n",
            " keras_layer_1 (KerasLayer)  (None, 512)               85213184  \n",
            "                                                                 \n",
            " dropout_1 (Dropout)         (None, 512)               0         \n",
            "                                                                 \n",
            " dense_4 (Dense)             (None, 256)               131328    \n",
            "                                                                 \n",
            " dense_5 (Dense)             (None, 128)               32896     \n",
            "                                                                 \n",
            " dense_6 (Dense)             (None, 64)                8256      \n",
            "                                                                 \n",
            " dense_7 (Dense)             (None, 32)                2080      \n",
            "                                                                 \n",
            " dense_8 (Dense)             (None, 16)                528       \n",
            "                                                                 \n",
            " dense_9 (Dense)             (None, 7)                 119       \n",
            "                                                                 \n",
            "=================================================================\n",
            "Total params: 85388391 (325.73 MB)\n",
            "Trainable params: 175207 (684.40 KB)\n",
            "Non-trainable params: 85213184 (325.06 MB)\n",
            "_________________________________________________________________\n"
          ]
        }
      ],
      "source": [
        "model = tf.keras.Sequential()\n",
        "model.add(hub_layer)\n",
        "model.add(tf.keras.layers.Dropout(0.5))\n",
        "model.add(tf.keras.layers.Dense(256, activation='silu'))\n",
        "model.add(tf.keras.layers.Dense(128, activation='silu'))\n",
        "model.add(tf.keras.layers.Dense(64, activation='silu'))\n",
        "model.add(tf.keras.layers.Dense(32, activation='silu'))\n",
        "model.add(tf.keras.layers.Dense(16, activation='silu'))\n",
        "model.add(tf.keras.layers.Dense(7))\n",
        "\n",
        "model.summary()"
      ]
    },
    {
      "cell_type": "code",
      "source": [
        "checkpoint_filepath = 'drive/MyDrive/Colab Notebooks/checkpoint.weights5.h5'\n",
        "model.load_weights(checkpoint_filepath)"
      ],
      "metadata": {
        "id": "39zkjIJvuIf0"
      },
      "execution_count": null,
      "outputs": []
    },
    {
      "cell_type": "code",
      "source": [
        "model.compile(optimizer='adam',\n",
        "              loss=tf.keras.losses.SparseCategoricalCrossentropy(from_logits=True),\n",
        "              metrics=[\n",
        "                  tf.keras.metrics.SparseCategoricalAccuracy(name='accuracy'),\n",
        "                  F1Macro()\n",
        "    ])"
      ],
      "metadata": {
        "id": "qU2yiTIWtoFz"
      },
      "execution_count": null,
      "outputs": []
    },
    {
      "cell_type": "code",
      "source": [
        "cb = tf.keras.callbacks.LambdaCallback(on_epoch_end=lambda a, b: test_metric())\n",
        "early_stopping = tf.keras.callbacks.EarlyStopping(patience=3)\n",
        "csv_logger = tf.keras.callbacks.CSVLogger('drive/MyDrive/Colab Notebooks/training2.log')\n",
        "checkpoint_filepath = 'drive/MyDrive/Colab Notebooks/checkpoint.weights6.h5'\n",
        "model_checkpoint_callback = tf.keras.callbacks.ModelCheckpoint(\n",
        "    filepath=checkpoint_filepath,\n",
        "    save_weights_only=True,\n",
        "    monitor='val_accuracy',\n",
        "    mode='max',\n",
        "    save_best_only=True)"
      ],
      "metadata": {
        "id": "0U7FDBE5uTJ1"
      },
      "execution_count": null,
      "outputs": []
    },
    {
      "cell_type": "markdown",
      "source": [
        "## Training"
      ],
      "metadata": {
        "id": "oSYNS2FwuaDY"
      }
    },
    {
      "cell_type": "code",
      "execution_count": null,
      "metadata": {
        "colab": {
          "base_uri": "https://localhost:8080/"
        },
        "id": "HNGmqCylv7T8",
        "outputId": "54ea098f-9d83-4116-92a9-da9de1dbe5df"
      },
      "outputs": [
        {
          "name": "stdout",
          "output_type": "stream",
          "text": [
            "Epoch 1/10\n",
            "625/625 [==============================] - ETA: 0s - loss: 0.9753 - accuracy: 0.6476\n",
            "loss: 0.7163\n",
            "accuracy: 0.7540\n",
            "625/625 [==============================] - 581s 905ms/step - loss: 0.9753 - accuracy: 0.6476 - val_loss: 0.7243 - val_accuracy: 0.7520\n",
            "Epoch 2/10\n",
            "625/625 [==============================] - ETA: 0s - loss: 0.7444 - accuracy: 0.7419\n",
            "loss: 0.6776\n",
            "accuracy: 0.7628\n",
            "625/625 [==============================] - 519s 831ms/step - loss: 0.7444 - accuracy: 0.7419 - val_loss: 0.6888 - val_accuracy: 0.7606\n",
            "Epoch 3/10\n",
            "625/625 [==============================] - ETA: 0s - loss: 0.7183 - accuracy: 0.7489\n",
            "loss: 0.6739\n",
            "accuracy: 0.7656\n",
            "625/625 [==============================] - 498s 797ms/step - loss: 0.7183 - accuracy: 0.7489 - val_loss: 0.6732 - val_accuracy: 0.7656\n",
            "Epoch 4/10\n",
            "625/625 [==============================] - ETA: 0s - loss: 0.7060 - accuracy: 0.7495\n",
            "loss: 0.6602\n",
            "accuracy: 0.7740\n",
            "625/625 [==============================] - 486s 778ms/step - loss: 0.7060 - accuracy: 0.7495 - val_loss: 0.6687 - val_accuracy: 0.7618\n",
            "Epoch 5/10\n",
            "625/625 [==============================] - ETA: 0s - loss: 0.6996 - accuracy: 0.7524\n",
            "loss: 0.6550\n",
            "accuracy: 0.7702\n",
            "625/625 [==============================] - 517s 827ms/step - loss: 0.6996 - accuracy: 0.7524 - val_loss: 0.6556 - val_accuracy: 0.7698\n",
            "Epoch 6/10\n",
            "625/625 [==============================] - ETA: 0s - loss: 0.6958 - accuracy: 0.7548\n",
            "loss: 0.6569\n",
            "accuracy: 0.7706\n",
            "625/625 [==============================] - 471s 753ms/step - loss: 0.6958 - accuracy: 0.7548 - val_loss: 0.6562 - val_accuracy: 0.7660\n",
            "Epoch 7/10\n",
            "625/625 [==============================] - ETA: 0s - loss: 0.6869 - accuracy: 0.7556\n",
            "loss: 0.6462\n",
            "accuracy: 0.7708\n",
            "625/625 [==============================] - 460s 736ms/step - loss: 0.6869 - accuracy: 0.7556 - val_loss: 0.6475 - val_accuracy: 0.7676\n",
            "Epoch 8/10\n",
            "625/625 [==============================] - ETA: 0s - loss: 0.6799 - accuracy: 0.7571\n",
            "loss: 0.6342\n",
            "accuracy: 0.7776\n",
            "625/625 [==============================] - 461s 737ms/step - loss: 0.6799 - accuracy: 0.7571 - val_loss: 0.6436 - val_accuracy: 0.7728\n",
            "Epoch 9/10\n",
            "625/625 [==============================] - ETA: 0s - loss: 0.6659 - accuracy: 0.7610\n",
            "loss: 0.6396\n",
            "accuracy: 0.7764\n",
            "625/625 [==============================] - 500s 801ms/step - loss: 0.6659 - accuracy: 0.7610 - val_loss: 0.6415 - val_accuracy: 0.7766\n",
            "Epoch 10/10\n",
            "625/625 [==============================] - ETA: 0s - loss: 0.6548 - accuracy: 0.7642\n",
            "loss: 0.6270\n",
            "accuracy: 0.7776\n",
            "625/625 [==============================] - 453s 726ms/step - loss: 0.6548 - accuracy: 0.7642 - val_loss: 0.6368 - val_accuracy: 0.7766\n"
          ]
        }
      ],
      "source": [
        "history = model.fit(train_data,\n",
        "                    epochs=10,\n",
        "                    validation_data=validation_data,\n",
        "                    verbose=1,\n",
        "                    callbacks=[model_checkpoint_callback, early_stopping, cb])"
      ]
    },
    {
      "cell_type": "code",
      "execution_count": null,
      "metadata": {
        "colab": {
          "background_save": true,
          "base_uri": "https://localhost:8080/"
        },
        "id": "y3bM_1z5WEA0",
        "outputId": "82608e0e-45be-4949-902c-458848240b8b"
      },
      "outputs": [
        {
          "name": "stdout",
          "output_type": "stream",
          "text": [
            "Epoch 1/10\n",
            "625/625 [==============================] - ETA: 0s - loss: 0.6584 - accuracy: 0.7627\n",
            "loss: 0.6236\n",
            "accuracy: 0.7756\n",
            "625/625 [==============================] - 949s 1s/step - loss: 0.6584 - accuracy: 0.7627 - val_loss: 0.6326 - val_accuracy: 0.7790\n",
            "Epoch 2/10\n",
            "625/625 [==============================] - ETA: 0s - loss: 0.6474 - accuracy: 0.7667\n",
            "loss: 0.6238\n",
            "accuracy: 0.7766\n",
            "625/625 [==============================] - 955s 2s/step - loss: 0.6474 - accuracy: 0.7667 - val_loss: 0.6198 - val_accuracy: 0.7824\n",
            "Epoch 3/10\n",
            "625/625 [==============================] - ETA: 0s - loss: 0.6364 - accuracy: 0.7715\n",
            "loss: 0.6137\n",
            "accuracy: 0.7852\n",
            "625/625 [==============================] - 947s 2s/step - loss: 0.6364 - accuracy: 0.7715 - val_loss: 0.6252 - val_accuracy: 0.7802\n",
            "Epoch 4/10\n",
            "625/625 [==============================] - ETA: 0s - loss: 0.6238 - accuracy: 0.7761"
          ]
        }
      ],
      "source": [
        "history2 = model.fit(train_data,\n",
        "                    epochs=10,\n",
        "                    validation_data=validation_data,\n",
        "                    verbose=1,\n",
        "                    callbacks=[model_checkpoint_callback, early_stopping, cb])"
      ]
    },
    {
      "cell_type": "code",
      "execution_count": null,
      "metadata": {
        "colab": {
          "base_uri": "https://localhost:8080/"
        },
        "id": "MlLa7zb1r_mH",
        "outputId": "6493472a-00df-4301-ac55-0abbdff5419c"
      },
      "outputs": [
        {
          "name": "stdout",
          "output_type": "stream",
          "text": [
            "Epoch 1/10\n",
            "625/625 [==============================] - ETA: 0s - loss: 0.6377 - accuracy: 0.7730\n",
            "loss: 0.6202\n",
            "accuracy: 0.7822\n",
            "625/625 [==============================] - 944s 1s/step - loss: 0.6377 - accuracy: 0.7730 - val_loss: 0.6245 - val_accuracy: 0.7814\n",
            "Epoch 2/10\n",
            "625/625 [==============================] - ETA: 0s - loss: 0.6283 - accuracy: 0.7729\n",
            "loss: 0.6181\n",
            "accuracy: 0.7828\n",
            "625/625 [==============================] - 966s 2s/step - loss: 0.6283 - accuracy: 0.7729 - val_loss: 0.6188 - val_accuracy: 0.7784\n",
            "Epoch 3/10\n",
            "625/625 [==============================] - ETA: 0s - loss: 0.6165 - accuracy: 0.7784\n",
            "loss: 0.6167\n",
            "accuracy: 0.7844\n",
            "625/625 [==============================] - 961s 2s/step - loss: 0.6165 - accuracy: 0.7784 - val_loss: 0.6126 - val_accuracy: 0.7856\n",
            "Epoch 4/10\n",
            "625/625 [==============================] - ETA: 0s - loss: 0.6071 - accuracy: 0.7801\n",
            "loss: 0.6214\n",
            "accuracy: 0.7800\n",
            "625/625 [==============================] - 1012s 2s/step - loss: 0.6071 - accuracy: 0.7801 - val_loss: 0.6159 - val_accuracy: 0.7840\n",
            "Epoch 5/10\n",
            "625/625 [==============================] - ETA: 0s - loss: 0.6012 - accuracy: 0.7831\n",
            "loss: 0.6092\n",
            "accuracy: 0.7846\n",
            "625/625 [==============================] - 997s 2s/step - loss: 0.6012 - accuracy: 0.7831 - val_loss: 0.6101 - val_accuracy: 0.7816\n",
            "Epoch 6/10\n",
            "625/625 [==============================] - ETA: 0s - loss: 0.5875 - accuracy: 0.7872\n",
            "loss: 0.6065\n",
            "accuracy: 0.7902\n",
            "625/625 [==============================] - 966s 2s/step - loss: 0.5875 - accuracy: 0.7872 - val_loss: 0.6103 - val_accuracy: 0.7856\n",
            "Epoch 7/10\n",
            "625/625 [==============================] - ETA: 0s - loss: 0.5797 - accuracy: 0.7902\n",
            "loss: 0.6101\n",
            "accuracy: 0.7814\n",
            "625/625 [==============================] - 921s 1s/step - loss: 0.5797 - accuracy: 0.7902 - val_loss: 0.6061 - val_accuracy: 0.7818\n",
            "Epoch 8/10\n",
            "625/625 [==============================] - ETA: 0s - loss: 0.5714 - accuracy: 0.7928\n",
            "loss: 0.6078\n",
            "accuracy: 0.7838\n",
            "625/625 [==============================] - 910s 1s/step - loss: 0.5714 - accuracy: 0.7928 - val_loss: 0.6007 - val_accuracy: 0.7854\n",
            "Epoch 9/10\n",
            "625/625 [==============================] - ETA: 0s - loss: 0.5647 - accuracy: 0.7954\n",
            "loss: 0.6050\n",
            "accuracy: 0.7856\n",
            "625/625 [==============================] - 928s 1s/step - loss: 0.5647 - accuracy: 0.7954 - val_loss: 0.6141 - val_accuracy: 0.7848\n",
            "Epoch 10/10\n",
            "625/625 [==============================] - ETA: 0s - loss: 0.5518 - accuracy: 0.7979\n",
            "loss: 0.6148\n",
            "accuracy: 0.7806\n",
            "625/625 [==============================] - 921s 1s/step - loss: 0.5518 - accuracy: 0.7979 - val_loss: 0.6038 - val_accuracy: 0.7892\n"
          ]
        }
      ],
      "source": [
        "history3 = model.fit(train_data,\n",
        "                    epochs=10,\n",
        "                    validation_data=validation_data,\n",
        "                    verbose=1,\n",
        "                    callbacks=[model_checkpoint_callback, early_stopping, cb, csv_logger])"
      ]
    },
    {
      "cell_type": "code",
      "execution_count": null,
      "metadata": {
        "colab": {
          "background_save": true,
          "base_uri": "https://localhost:8080/"
        },
        "id": "2YODLDGeVldO",
        "outputId": "7978f537-d741-4fc7-c6b0-69148d970d7a"
      },
      "outputs": [
        {
          "name": "stdout",
          "output_type": "stream",
          "text": [
            "Epoch 1/10\n",
            "625/625 [==============================] - ETA: 0s - loss: 0.5672 - accuracy: 0.7918\n",
            "loss: 0.6028\n",
            "accuracy: 0.7840\n",
            "625/625 [==============================] - 1015s 2s/step - loss: 0.5672 - accuracy: 0.7918 - val_loss: 0.6017 - val_accuracy: 0.7922\n",
            "Epoch 2/10\n",
            "625/625 [==============================] - ETA: 0s - loss: 0.5577 - accuracy: 0.7970\n",
            "loss: 0.5999\n",
            "accuracy: 0.7866\n",
            "625/625 [==============================] - 962s 2s/step - loss: 0.5577 - accuracy: 0.7970 - val_loss: 0.6021 - val_accuracy: 0.7914\n",
            "Epoch 3/10\n",
            "625/625 [==============================] - ETA: 0s - loss: 0.5503 - accuracy: 0.7976\n",
            "loss: 0.6058\n",
            "accuracy: 0.7838\n",
            "625/625 [==============================] - 863s 1s/step - loss: 0.5503 - accuracy: 0.7976 - val_loss: 0.6114 - val_accuracy: 0.7826\n",
            "Epoch 4/10\n",
            "625/625 [==============================] - ETA: 0s - loss: 0.5443 - accuracy: 0.8005\n",
            "loss: 0.6229\n",
            "accuracy: 0.7814\n",
            "625/625 [==============================] - 859s 1s/step - loss: 0.5443 - accuracy: 0.8005 - val_loss: 0.6148 - val_accuracy: 0.7808\n"
          ]
        }
      ],
      "source": [
        "history4 = model.fit(train_data,\n",
        "                    epochs=10,\n",
        "                    validation_data=validation_data,\n",
        "                    verbose=1,\n",
        "                    callbacks=[model_checkpoint_callback, early_stopping, cb, csv_logger])"
      ]
    },
    {
      "cell_type": "code",
      "source": [
        "history5 = model.fit(train_data,\n",
        "                    epochs=10,\n",
        "                    validation_data=validation_data,\n",
        "                    verbose=1,\n",
        "                    callbacks=[model_checkpoint_callback, early_stopping, cb])"
      ],
      "metadata": {
        "colab": {
          "base_uri": "https://localhost:8080/"
        },
        "id": "rA-h6FTYuYJs",
        "outputId": "c8ab2e65-b66f-4312-ac7b-c6eb44d3d442"
      },
      "execution_count": null,
      "outputs": [
        {
          "output_type": "stream",
          "name": "stdout",
          "text": [
            "Epoch 1/10\n",
            "625/625 [==============================] - ETA: 0s - loss: 0.6049 - accuracy: 0.7800\n",
            "loss: 0.6036\n",
            "accuracy: 0.7860\n",
            "625/625 [==============================] - 1065s 2s/step - loss: 0.6049 - accuracy: 0.7800 - val_loss: 0.6073 - val_accuracy: 0.7874\n",
            "Epoch 2/10\n",
            "625/625 [==============================] - ETA: 0s - loss: 0.6001 - accuracy: 0.7819\n",
            "loss: 0.6004\n",
            "accuracy: 0.7872\n",
            "625/625 [==============================] - 891s 1s/step - loss: 0.6001 - accuracy: 0.7819 - val_loss: 0.5983 - val_accuracy: 0.7886\n",
            "Epoch 3/10\n",
            "625/625 [==============================] - ETA: 0s - loss: 0.5959 - accuracy: 0.7842\n",
            "loss: 0.5998\n",
            "accuracy: 0.7898\n",
            "625/625 [==============================] - 884s 1s/step - loss: 0.5959 - accuracy: 0.7842 - val_loss: 0.5996 - val_accuracy: 0.7884\n",
            "Epoch 4/10\n",
            "625/625 [==============================] - ETA: 0s - loss: 0.5875 - accuracy: 0.7862\n",
            "loss: 0.6001\n",
            "accuracy: 0.7890\n",
            "625/625 [==============================] - 906s 1s/step - loss: 0.5875 - accuracy: 0.7862 - val_loss: 0.6049 - val_accuracy: 0.7854\n",
            "Epoch 5/10\n",
            "625/625 [==============================] - ETA: 0s - loss: 0.5805 - accuracy: 0.7891\n",
            "loss: 0.6043\n",
            "accuracy: 0.7866\n",
            "625/625 [==============================] - 937s 2s/step - loss: 0.5805 - accuracy: 0.7891 - val_loss: 0.5976 - val_accuracy: 0.7874\n",
            "Epoch 6/10\n",
            "625/625 [==============================] - ETA: 0s - loss: 0.5765 - accuracy: 0.7908\n",
            "loss: 0.6031\n",
            "accuracy: 0.7892\n",
            "625/625 [==============================] - 870s 1s/step - loss: 0.5765 - accuracy: 0.7908 - val_loss: 0.6012 - val_accuracy: 0.7846\n",
            "Epoch 7/10\n",
            "625/625 [==============================] - ETA: 0s - loss: 0.5719 - accuracy: 0.7904\n"
          ]
        }
      ]
    },
    {
      "cell_type": "code",
      "source": [
        "history6 = model.fit(train_data,\n",
        "                    epochs=10,\n",
        "                    validation_data=validation_data,\n",
        "                    verbose=1,\n",
        "                    callbacks=[model_checkpoint_callback, early_stopping, cb])"
      ],
      "metadata": {
        "colab": {
          "base_uri": "https://localhost:8080/",
          "height": 668
        },
        "id": "qZvgKOSFPEO7",
        "outputId": "575a3245-72ab-4e56-c59f-5d2b529ecdba"
      },
      "execution_count": null,
      "outputs": [
        {
          "output_type": "stream",
          "name": "stdout",
          "text": [
            "Epoch 1/10\n",
            "625/625 [==============================] - ETA: 0s - loss: 0.6554 - accuracy: 0.7642\n",
            "loss: 0.6123\n",
            "accuracy: 0.7844\n",
            "625/625 [==============================] - 1007s 2s/step - loss: 0.6554 - accuracy: 0.7642 - val_loss: 0.6108 - val_accuracy: 0.7798\n",
            "Epoch 2/10\n",
            "625/625 [==============================] - ETA: 0s - loss: 0.6456 - accuracy: 0.7674\n",
            "loss: 0.6050\n",
            "accuracy: 0.7840\n",
            "625/625 [==============================] - 890s 1s/step - loss: 0.6456 - accuracy: 0.7674 - val_loss: 0.6057 - val_accuracy: 0.7852\n",
            "Epoch 3/10\n",
            "625/625 [==============================] - ETA: 0s - loss: 0.6459 - accuracy: 0.7667\n",
            "loss: 0.5994\n",
            "accuracy: 0.7900\n",
            "625/625 [==============================] - 961s 2s/step - loss: 0.6459 - accuracy: 0.7667 - val_loss: 0.5968 - val_accuracy: 0.7864\n",
            "Epoch 4/10\n",
            "  2/625 [..............................] - ETA: 9:13 - loss: 0.5660 - accuracy: 0.8203"
          ]
        },
        {
          "output_type": "error",
          "ename": "KeyboardInterrupt",
          "evalue": "",
          "traceback": [
            "\u001b[0;31m---------------------------------------------------------------------------\u001b[0m",
            "\u001b[0;31mKeyboardInterrupt\u001b[0m                         Traceback (most recent call last)",
            "\u001b[0;32m<ipython-input-36-8c7bed737500>\u001b[0m in \u001b[0;36m<cell line: 1>\u001b[0;34m()\u001b[0m\n\u001b[0;32m----> 1\u001b[0;31m history6 = model.fit(train_data,\n\u001b[0m\u001b[1;32m      2\u001b[0m                     \u001b[0mepochs\u001b[0m\u001b[0;34m=\u001b[0m\u001b[0;36m10\u001b[0m\u001b[0;34m,\u001b[0m\u001b[0;34m\u001b[0m\u001b[0;34m\u001b[0m\u001b[0m\n\u001b[1;32m      3\u001b[0m                     \u001b[0mvalidation_data\u001b[0m\u001b[0;34m=\u001b[0m\u001b[0mvalidation_data\u001b[0m\u001b[0;34m,\u001b[0m\u001b[0;34m\u001b[0m\u001b[0;34m\u001b[0m\u001b[0m\n\u001b[1;32m      4\u001b[0m                     \u001b[0mverbose\u001b[0m\u001b[0;34m=\u001b[0m\u001b[0;36m1\u001b[0m\u001b[0;34m,\u001b[0m\u001b[0;34m\u001b[0m\u001b[0;34m\u001b[0m\u001b[0m\n\u001b[1;32m      5\u001b[0m                     callbacks=[model_checkpoint_callback, early_stopping, cb])\n",
            "\u001b[0;32m/usr/local/lib/python3.10/dist-packages/keras/src/utils/traceback_utils.py\u001b[0m in \u001b[0;36merror_handler\u001b[0;34m(*args, **kwargs)\u001b[0m\n\u001b[1;32m     63\u001b[0m         \u001b[0mfiltered_tb\u001b[0m \u001b[0;34m=\u001b[0m \u001b[0;32mNone\u001b[0m\u001b[0;34m\u001b[0m\u001b[0;34m\u001b[0m\u001b[0m\n\u001b[1;32m     64\u001b[0m         \u001b[0;32mtry\u001b[0m\u001b[0;34m:\u001b[0m\u001b[0;34m\u001b[0m\u001b[0;34m\u001b[0m\u001b[0m\n\u001b[0;32m---> 65\u001b[0;31m             \u001b[0;32mreturn\u001b[0m \u001b[0mfn\u001b[0m\u001b[0;34m(\u001b[0m\u001b[0;34m*\u001b[0m\u001b[0margs\u001b[0m\u001b[0;34m,\u001b[0m \u001b[0;34m**\u001b[0m\u001b[0mkwargs\u001b[0m\u001b[0;34m)\u001b[0m\u001b[0;34m\u001b[0m\u001b[0;34m\u001b[0m\u001b[0m\n\u001b[0m\u001b[1;32m     66\u001b[0m         \u001b[0;32mexcept\u001b[0m \u001b[0mException\u001b[0m \u001b[0;32mas\u001b[0m \u001b[0me\u001b[0m\u001b[0;34m:\u001b[0m\u001b[0;34m\u001b[0m\u001b[0;34m\u001b[0m\u001b[0m\n\u001b[1;32m     67\u001b[0m             \u001b[0mfiltered_tb\u001b[0m \u001b[0;34m=\u001b[0m \u001b[0m_process_traceback_frames\u001b[0m\u001b[0;34m(\u001b[0m\u001b[0me\u001b[0m\u001b[0;34m.\u001b[0m\u001b[0m__traceback__\u001b[0m\u001b[0;34m)\u001b[0m\u001b[0;34m\u001b[0m\u001b[0;34m\u001b[0m\u001b[0m\n",
            "\u001b[0;32m/usr/local/lib/python3.10/dist-packages/keras/src/engine/training.py\u001b[0m in \u001b[0;36mfit\u001b[0;34m(self, x, y, batch_size, epochs, verbose, callbacks, validation_split, validation_data, shuffle, class_weight, sample_weight, initial_epoch, steps_per_epoch, validation_steps, validation_batch_size, validation_freq, max_queue_size, workers, use_multiprocessing)\u001b[0m\n\u001b[1;32m   1740\u001b[0m                         ):\n\u001b[1;32m   1741\u001b[0m                             \u001b[0mcallbacks\u001b[0m\u001b[0;34m.\u001b[0m\u001b[0mon_train_batch_begin\u001b[0m\u001b[0;34m(\u001b[0m\u001b[0mstep\u001b[0m\u001b[0;34m)\u001b[0m\u001b[0;34m\u001b[0m\u001b[0;34m\u001b[0m\u001b[0m\n\u001b[0;32m-> 1742\u001b[0;31m                             \u001b[0mtmp_logs\u001b[0m \u001b[0;34m=\u001b[0m \u001b[0mself\u001b[0m\u001b[0;34m.\u001b[0m\u001b[0mtrain_function\u001b[0m\u001b[0;34m(\u001b[0m\u001b[0miterator\u001b[0m\u001b[0;34m)\u001b[0m\u001b[0;34m\u001b[0m\u001b[0;34m\u001b[0m\u001b[0m\n\u001b[0m\u001b[1;32m   1743\u001b[0m                             \u001b[0;32mif\u001b[0m \u001b[0mdata_handler\u001b[0m\u001b[0;34m.\u001b[0m\u001b[0mshould_sync\u001b[0m\u001b[0;34m:\u001b[0m\u001b[0;34m\u001b[0m\u001b[0;34m\u001b[0m\u001b[0m\n\u001b[1;32m   1744\u001b[0m                                 \u001b[0mcontext\u001b[0m\u001b[0;34m.\u001b[0m\u001b[0masync_wait\u001b[0m\u001b[0;34m(\u001b[0m\u001b[0;34m)\u001b[0m\u001b[0;34m\u001b[0m\u001b[0;34m\u001b[0m\u001b[0m\n",
            "\u001b[0;32m/usr/local/lib/python3.10/dist-packages/tensorflow/python/util/traceback_utils.py\u001b[0m in \u001b[0;36merror_handler\u001b[0;34m(*args, **kwargs)\u001b[0m\n\u001b[1;32m    148\u001b[0m     \u001b[0mfiltered_tb\u001b[0m \u001b[0;34m=\u001b[0m \u001b[0;32mNone\u001b[0m\u001b[0;34m\u001b[0m\u001b[0;34m\u001b[0m\u001b[0m\n\u001b[1;32m    149\u001b[0m     \u001b[0;32mtry\u001b[0m\u001b[0;34m:\u001b[0m\u001b[0;34m\u001b[0m\u001b[0;34m\u001b[0m\u001b[0m\n\u001b[0;32m--> 150\u001b[0;31m       \u001b[0;32mreturn\u001b[0m \u001b[0mfn\u001b[0m\u001b[0;34m(\u001b[0m\u001b[0;34m*\u001b[0m\u001b[0margs\u001b[0m\u001b[0;34m,\u001b[0m \u001b[0;34m**\u001b[0m\u001b[0mkwargs\u001b[0m\u001b[0;34m)\u001b[0m\u001b[0;34m\u001b[0m\u001b[0;34m\u001b[0m\u001b[0m\n\u001b[0m\u001b[1;32m    151\u001b[0m     \u001b[0;32mexcept\u001b[0m \u001b[0mException\u001b[0m \u001b[0;32mas\u001b[0m \u001b[0me\u001b[0m\u001b[0;34m:\u001b[0m\u001b[0;34m\u001b[0m\u001b[0;34m\u001b[0m\u001b[0m\n\u001b[1;32m    152\u001b[0m       \u001b[0mfiltered_tb\u001b[0m \u001b[0;34m=\u001b[0m \u001b[0m_process_traceback_frames\u001b[0m\u001b[0;34m(\u001b[0m\u001b[0me\u001b[0m\u001b[0;34m.\u001b[0m\u001b[0m__traceback__\u001b[0m\u001b[0;34m)\u001b[0m\u001b[0;34m\u001b[0m\u001b[0;34m\u001b[0m\u001b[0m\n",
            "\u001b[0;32m/usr/local/lib/python3.10/dist-packages/tensorflow/python/eager/polymorphic_function/polymorphic_function.py\u001b[0m in \u001b[0;36m__call__\u001b[0;34m(self, *args, **kwds)\u001b[0m\n\u001b[1;32m    823\u001b[0m \u001b[0;34m\u001b[0m\u001b[0m\n\u001b[1;32m    824\u001b[0m       \u001b[0;32mwith\u001b[0m \u001b[0mOptionalXlaContext\u001b[0m\u001b[0;34m(\u001b[0m\u001b[0mself\u001b[0m\u001b[0;34m.\u001b[0m\u001b[0m_jit_compile\u001b[0m\u001b[0;34m)\u001b[0m\u001b[0;34m:\u001b[0m\u001b[0;34m\u001b[0m\u001b[0;34m\u001b[0m\u001b[0m\n\u001b[0;32m--> 825\u001b[0;31m         \u001b[0mresult\u001b[0m \u001b[0;34m=\u001b[0m \u001b[0mself\u001b[0m\u001b[0;34m.\u001b[0m\u001b[0m_call\u001b[0m\u001b[0;34m(\u001b[0m\u001b[0;34m*\u001b[0m\u001b[0margs\u001b[0m\u001b[0;34m,\u001b[0m \u001b[0;34m**\u001b[0m\u001b[0mkwds\u001b[0m\u001b[0;34m)\u001b[0m\u001b[0;34m\u001b[0m\u001b[0;34m\u001b[0m\u001b[0m\n\u001b[0m\u001b[1;32m    826\u001b[0m \u001b[0;34m\u001b[0m\u001b[0m\n\u001b[1;32m    827\u001b[0m       \u001b[0mnew_tracing_count\u001b[0m \u001b[0;34m=\u001b[0m \u001b[0mself\u001b[0m\u001b[0;34m.\u001b[0m\u001b[0mexperimental_get_tracing_count\u001b[0m\u001b[0;34m(\u001b[0m\u001b[0;34m)\u001b[0m\u001b[0;34m\u001b[0m\u001b[0;34m\u001b[0m\u001b[0m\n",
            "\u001b[0;32m/usr/local/lib/python3.10/dist-packages/tensorflow/python/eager/polymorphic_function/polymorphic_function.py\u001b[0m in \u001b[0;36m_call\u001b[0;34m(self, *args, **kwds)\u001b[0m\n\u001b[1;32m    855\u001b[0m       \u001b[0;31m# In this case we have created variables on the first call, so we run the\u001b[0m\u001b[0;34m\u001b[0m\u001b[0;34m\u001b[0m\u001b[0m\n\u001b[1;32m    856\u001b[0m       \u001b[0;31m# defunned version which is guaranteed to never create variables.\u001b[0m\u001b[0;34m\u001b[0m\u001b[0;34m\u001b[0m\u001b[0m\n\u001b[0;32m--> 857\u001b[0;31m       \u001b[0;32mreturn\u001b[0m \u001b[0mself\u001b[0m\u001b[0;34m.\u001b[0m\u001b[0m_no_variable_creation_fn\u001b[0m\u001b[0;34m(\u001b[0m\u001b[0;34m*\u001b[0m\u001b[0margs\u001b[0m\u001b[0;34m,\u001b[0m \u001b[0;34m**\u001b[0m\u001b[0mkwds\u001b[0m\u001b[0;34m)\u001b[0m  \u001b[0;31m# pylint: disable=not-callable\u001b[0m\u001b[0;34m\u001b[0m\u001b[0;34m\u001b[0m\u001b[0m\n\u001b[0m\u001b[1;32m    858\u001b[0m     \u001b[0;32melif\u001b[0m \u001b[0mself\u001b[0m\u001b[0;34m.\u001b[0m\u001b[0m_variable_creation_fn\u001b[0m \u001b[0;32mis\u001b[0m \u001b[0;32mnot\u001b[0m \u001b[0;32mNone\u001b[0m\u001b[0;34m:\u001b[0m\u001b[0;34m\u001b[0m\u001b[0;34m\u001b[0m\u001b[0m\n\u001b[1;32m    859\u001b[0m       \u001b[0;31m# Release the lock early so that multiple threads can perform the call\u001b[0m\u001b[0;34m\u001b[0m\u001b[0;34m\u001b[0m\u001b[0m\n",
            "\u001b[0;32m/usr/local/lib/python3.10/dist-packages/tensorflow/python/eager/polymorphic_function/tracing_compiler.py\u001b[0m in \u001b[0;36m__call__\u001b[0;34m(self, *args, **kwargs)\u001b[0m\n\u001b[1;32m    146\u001b[0m       (concrete_function,\n\u001b[1;32m    147\u001b[0m        filtered_flat_args) = self._maybe_define_function(args, kwargs)\n\u001b[0;32m--> 148\u001b[0;31m     return concrete_function._call_flat(\n\u001b[0m\u001b[1;32m    149\u001b[0m         filtered_flat_args, captured_inputs=concrete_function.captured_inputs)  # pylint: disable=protected-access\n\u001b[1;32m    150\u001b[0m \u001b[0;34m\u001b[0m\u001b[0m\n",
            "\u001b[0;32m/usr/local/lib/python3.10/dist-packages/tensorflow/python/eager/polymorphic_function/monomorphic_function.py\u001b[0m in \u001b[0;36m_call_flat\u001b[0;34m(self, args, captured_inputs)\u001b[0m\n\u001b[1;32m   1347\u001b[0m         and executing_eagerly):\n\u001b[1;32m   1348\u001b[0m       \u001b[0;31m# No tape is watching; skip to running the function.\u001b[0m\u001b[0;34m\u001b[0m\u001b[0;34m\u001b[0m\u001b[0m\n\u001b[0;32m-> 1349\u001b[0;31m       \u001b[0;32mreturn\u001b[0m \u001b[0mself\u001b[0m\u001b[0;34m.\u001b[0m\u001b[0m_build_call_outputs\u001b[0m\u001b[0;34m(\u001b[0m\u001b[0mself\u001b[0m\u001b[0;34m.\u001b[0m\u001b[0m_inference_function\u001b[0m\u001b[0;34m(\u001b[0m\u001b[0;34m*\u001b[0m\u001b[0margs\u001b[0m\u001b[0;34m)\u001b[0m\u001b[0;34m)\u001b[0m\u001b[0;34m\u001b[0m\u001b[0;34m\u001b[0m\u001b[0m\n\u001b[0m\u001b[1;32m   1350\u001b[0m     forward_backward = self._select_forward_and_backward_functions(\n\u001b[1;32m   1351\u001b[0m         \u001b[0margs\u001b[0m\u001b[0;34m,\u001b[0m\u001b[0;34m\u001b[0m\u001b[0;34m\u001b[0m\u001b[0m\n",
            "\u001b[0;32m/usr/local/lib/python3.10/dist-packages/tensorflow/python/eager/polymorphic_function/atomic_function.py\u001b[0m in \u001b[0;36m__call__\u001b[0;34m(self, *args)\u001b[0m\n\u001b[1;32m    194\u001b[0m         \u001b[0;32mwith\u001b[0m \u001b[0mrecord\u001b[0m\u001b[0;34m.\u001b[0m\u001b[0mstop_recording\u001b[0m\u001b[0;34m(\u001b[0m\u001b[0;34m)\u001b[0m\u001b[0;34m:\u001b[0m\u001b[0;34m\u001b[0m\u001b[0;34m\u001b[0m\u001b[0m\n\u001b[1;32m    195\u001b[0m           \u001b[0;32mif\u001b[0m \u001b[0mself\u001b[0m\u001b[0;34m.\u001b[0m\u001b[0m_bound_context\u001b[0m\u001b[0;34m.\u001b[0m\u001b[0mexecuting_eagerly\u001b[0m\u001b[0;34m(\u001b[0m\u001b[0;34m)\u001b[0m\u001b[0;34m:\u001b[0m\u001b[0;34m\u001b[0m\u001b[0;34m\u001b[0m\u001b[0m\n\u001b[0;32m--> 196\u001b[0;31m             outputs = self._bound_context.call_function(\n\u001b[0m\u001b[1;32m    197\u001b[0m                 \u001b[0mself\u001b[0m\u001b[0;34m.\u001b[0m\u001b[0mname\u001b[0m\u001b[0;34m,\u001b[0m\u001b[0;34m\u001b[0m\u001b[0;34m\u001b[0m\u001b[0m\n\u001b[1;32m    198\u001b[0m                 \u001b[0mlist\u001b[0m\u001b[0;34m(\u001b[0m\u001b[0margs\u001b[0m\u001b[0;34m)\u001b[0m\u001b[0;34m,\u001b[0m\u001b[0;34m\u001b[0m\u001b[0;34m\u001b[0m\u001b[0m\n",
            "\u001b[0;32m/usr/local/lib/python3.10/dist-packages/tensorflow/python/eager/context.py\u001b[0m in \u001b[0;36mcall_function\u001b[0;34m(self, name, tensor_inputs, num_outputs)\u001b[0m\n\u001b[1;32m   1455\u001b[0m     \u001b[0mcancellation_context\u001b[0m \u001b[0;34m=\u001b[0m \u001b[0mcancellation\u001b[0m\u001b[0;34m.\u001b[0m\u001b[0mcontext\u001b[0m\u001b[0;34m(\u001b[0m\u001b[0;34m)\u001b[0m\u001b[0;34m\u001b[0m\u001b[0;34m\u001b[0m\u001b[0m\n\u001b[1;32m   1456\u001b[0m     \u001b[0;32mif\u001b[0m \u001b[0mcancellation_context\u001b[0m \u001b[0;32mis\u001b[0m \u001b[0;32mNone\u001b[0m\u001b[0;34m:\u001b[0m\u001b[0;34m\u001b[0m\u001b[0;34m\u001b[0m\u001b[0m\n\u001b[0;32m-> 1457\u001b[0;31m       outputs = execute.execute(\n\u001b[0m\u001b[1;32m   1458\u001b[0m           \u001b[0mname\u001b[0m\u001b[0;34m.\u001b[0m\u001b[0mdecode\u001b[0m\u001b[0;34m(\u001b[0m\u001b[0;34m\"utf-8\"\u001b[0m\u001b[0;34m)\u001b[0m\u001b[0;34m,\u001b[0m\u001b[0;34m\u001b[0m\u001b[0;34m\u001b[0m\u001b[0m\n\u001b[1;32m   1459\u001b[0m           \u001b[0mnum_outputs\u001b[0m\u001b[0;34m=\u001b[0m\u001b[0mnum_outputs\u001b[0m\u001b[0;34m,\u001b[0m\u001b[0;34m\u001b[0m\u001b[0;34m\u001b[0m\u001b[0m\n",
            "\u001b[0;32m/usr/local/lib/python3.10/dist-packages/tensorflow/python/eager/execute.py\u001b[0m in \u001b[0;36mquick_execute\u001b[0;34m(op_name, num_outputs, inputs, attrs, ctx, name)\u001b[0m\n\u001b[1;32m     51\u001b[0m   \u001b[0;32mtry\u001b[0m\u001b[0;34m:\u001b[0m\u001b[0;34m\u001b[0m\u001b[0;34m\u001b[0m\u001b[0m\n\u001b[1;32m     52\u001b[0m     \u001b[0mctx\u001b[0m\u001b[0;34m.\u001b[0m\u001b[0mensure_initialized\u001b[0m\u001b[0;34m(\u001b[0m\u001b[0;34m)\u001b[0m\u001b[0;34m\u001b[0m\u001b[0;34m\u001b[0m\u001b[0m\n\u001b[0;32m---> 53\u001b[0;31m     tensors = pywrap_tfe.TFE_Py_Execute(ctx._handle, device_name, op_name,\n\u001b[0m\u001b[1;32m     54\u001b[0m                                         inputs, attrs, num_outputs)\n\u001b[1;32m     55\u001b[0m   \u001b[0;32mexcept\u001b[0m \u001b[0mcore\u001b[0m\u001b[0;34m.\u001b[0m\u001b[0m_NotOkStatusException\u001b[0m \u001b[0;32mas\u001b[0m \u001b[0me\u001b[0m\u001b[0;34m:\u001b[0m\u001b[0;34m\u001b[0m\u001b[0;34m\u001b[0m\u001b[0m\n",
            "\u001b[0;31mKeyboardInterrupt\u001b[0m: "
          ]
        }
      ]
    },
    {
      "cell_type": "markdown",
      "source": [
        "## Evaluation"
      ],
      "metadata": {
        "id": "6nqtv2BSuumb"
      }
    },
    {
      "cell_type": "code",
      "source": [
        "test_metric()"
      ],
      "metadata": {
        "id": "veabL61KuxwM",
        "colab": {
          "base_uri": "https://localhost:8080/"
        },
        "outputId": "3b8f4d56-9375-4d3a-ed14-ea5a2eccc006"
      },
      "execution_count": null,
      "outputs": [
        {
          "output_type": "stream",
          "name": "stdout",
          "text": [
            "\n",
            "loss: 0.5991\n",
            "accuracy: 0.7910\n",
            "f1_macro: 0.7916\n"
          ]
        }
      ]
    },
    {
      "cell_type": "markdown",
      "metadata": {
        "id": "Fu6F7_L89dZ3"
      },
      "source": [
        "# 改進方式"
      ]
    },
    {
      "cell_type": "markdown",
      "source": [
        "由上面的實驗可以推斷，sentence embedding 對 classifier 有顯著的影響。 而一個好的 feature extractor 通常能 output 較好的 embedding。\n",
        "\n",
        "改進的方法可以用 Pre-Trained BERT 作為 base model。 以下的 code blocks 使用 BERT 來作為 base model。 時間因素，就沒有跑完實驗了。\n",
        "\n",
        "*   如果使用 GPT 作為 base model，相信能得到更好的 sentence embedding，也能更有效做分類。\n",
        "*   Finetune base model 或許能進一步提升 accuracy\n",
        "\n"
      ],
      "metadata": {
        "id": "ssn4nNwbDhTV"
      }
    },
    {
      "cell_type": "code",
      "execution_count": null,
      "metadata": {
        "id": "XKqzOxkeAXfm"
      },
      "outputs": [],
      "source": [
        "tfhub_handle_preprocess = \"https://kaggle.com/models/google/universal-sentence-encoder/TensorFlow2/cmlm-multilingual-preprocess/2\"\n",
        "tfhub_handle_encoder = \"https://www.kaggle.com/models/google/universal-sentence-encoder/TensorFlow2/cmlm-multilingual-base/1\"\n",
        "\n",
        "preprocessing_layer = hub.KerasLayer(tfhub_handle_preprocess, name='preprocessing')\n",
        "encoder = hub.KerasLayer(tfhub_handle_encoder, trainable=False, name='BERT_encoder')"
      ]
    },
    {
      "cell_type": "code",
      "execution_count": null,
      "metadata": {
        "id": "aKqkrlQ1ASYg"
      },
      "outputs": [],
      "source": [
        "def build_classifier_model():\n",
        "  text_input = tf.keras.layers.Input(shape=(), dtype=tf.string, name='text')\n",
        "  encoder_inputs = preprocessing_layer(text_input)\n",
        "  outputs = encoder(encoder_inputs)\n",
        "  net = outputs['pooled_output']\n",
        "  net = tf.keras.layers.Dropout(0.5)(net)\n",
        "  net = tf.keras.layers.Dense(384, activation='silu')(net)\n",
        "  net = tf.keras.layers.Dense(192, activation='silu')(net)\n",
        "  net = tf.keras.layers.Dense(96, activation='silu')(net)\n",
        "  net = tf.keras.layers.Dense(48, activation='silu')(net)\n",
        "  net = tf.keras.layers.Dense(24, activation='silu')(net)\n",
        "  net = tf.keras.layers.Dense(12, activation='silu')(net)\n",
        "  net = tf.keras.layers.Dense(7, activation=None, name='classifier')(net)\n",
        "  return tf.keras.Model(text_input, net)"
      ]
    },
    {
      "cell_type": "code",
      "execution_count": null,
      "metadata": {
        "id": "sAf90Am_A6q_",
        "colab": {
          "base_uri": "https://localhost:8080/"
        },
        "outputId": "ab73c5b2-63d2-4e55-e32b-22b2774b0d83"
      },
      "outputs": [
        {
          "output_type": "stream",
          "name": "stdout",
          "text": [
            "Model: \"model_1\"\n",
            "__________________________________________________________________________________________________\n",
            " Layer (type)                Output Shape                 Param #   Connected to                  \n",
            "==================================================================================================\n",
            " text (InputLayer)           [(None,)]                    0         []                            \n",
            "                                                                                                  \n",
            " preprocessing (KerasLayer)  {'input_type_ids': (None,    0         ['text[0][0]']                \n",
            "                             128),                                                                \n",
            "                              'input_word_ids': (None,                                            \n",
            "                             128),                                                                \n",
            "                              'input_mask': (None, 128)                                           \n",
            "                             }                                                                    \n",
            "                                                                                                  \n",
            " BERT_encoder (KerasLayer)   {'pooled_output': (None, 7   4709268   ['preprocessing[1][0]',       \n",
            "                             68),                         49         'preprocessing[1][1]',       \n",
            "                              'default': (None, 768),                'preprocessing[1][2]']       \n",
            "                              'sequence_output': (None,                                           \n",
            "                              128, 768)}                                                          \n",
            "                                                                                                  \n",
            " dropout_3 (Dropout)         (None, 768)                  0         ['BERT_encoder[1][1]']        \n",
            "                                                                                                  \n",
            " dense_13 (Dense)            (None, 384)                  295296    ['dropout_3[0][0]']           \n",
            "                                                                                                  \n",
            " dense_14 (Dense)            (None, 192)                  73920     ['dense_13[0][0]']            \n",
            "                                                                                                  \n",
            " dense_15 (Dense)            (None, 96)                   18528     ['dense_14[0][0]']            \n",
            "                                                                                                  \n",
            " dense_16 (Dense)            (None, 48)                   4656      ['dense_15[0][0]']            \n",
            "                                                                                                  \n",
            " dense_17 (Dense)            (None, 24)                   1176      ['dense_16[0][0]']            \n",
            "                                                                                                  \n",
            " dense_18 (Dense)            (None, 12)                   300       ['dense_17[0][0]']            \n",
            "                                                                                                  \n",
            " classifier (Dense)          (None, 7)                    91        ['dense_18[0][0]']            \n",
            "                                                                                                  \n",
            "==================================================================================================\n",
            "Total params: 471320816 (1.76 GB)\n",
            "Trainable params: 393967 (1.50 MB)\n",
            "Non-trainable params: 470926849 (1.75 GB)\n",
            "__________________________________________________________________________________________________\n"
          ]
        }
      ],
      "source": [
        "classifier_model = build_classifier_model()\n",
        "classifier_model.summary()"
      ]
    },
    {
      "cell_type": "code",
      "execution_count": null,
      "metadata": {
        "colab": {
          "base_uri": "https://localhost:8080/"
        },
        "id": "2KHE9wAVwGhM",
        "outputId": "b6c9132c-0269-4441-f2b5-5507800a0c69"
      },
      "outputs": [
        {
          "name": "stdout",
          "output_type": "stream",
          "text": [
            "tf.Tensor(\n",
            "[[0.47201183 0.5146386  0.56529415 0.50055265 0.43769878 0.4405658\n",
            "  0.4927307 ]], shape=(1, 7), dtype=float32)\n"
          ]
        }
      ],
      "source": [
        "text_test = ['제6회 국제주택도시금융포럼']\n",
        "bert_raw_result = classifier_model(tf.constant(text_test))\n",
        "print(tf.sigmoid(bert_raw_result))"
      ]
    },
    {
      "cell_type": "code",
      "execution_count": null,
      "metadata": {
        "id": "PTHOTyw4jCPH"
      },
      "outputs": [],
      "source": [
        "classifier_model.compile(optimizer='adam',\n",
        "              loss=tf.keras.losses.SparseCategoricalCrossentropy(from_logits=True),\n",
        "              metrics=[\n",
        "                  tf.keras.metrics.SparseCategoricalAccuracy(name='accuracy'),\n",
        "                  F1Macro()\n",
        "    ])"
      ]
    },
    {
      "cell_type": "code",
      "execution_count": null,
      "metadata": {
        "id": "I3iONBavjLSU"
      },
      "outputs": [],
      "source": [
        "history = classifier_model.fit(train_data,\n",
        "                    epochs=5,\n",
        "                    validation_data=validation_data,\n",
        "                    verbose=1)"
      ]
    },
    {
      "cell_type": "code",
      "source": [
        "test_metric()"
      ],
      "metadata": {
        "id": "In7gS-BIWg_J"
      },
      "execution_count": null,
      "outputs": []
    }
  ],
  "metadata": {
    "accelerator": "GPU",
    "colab": {
      "gpuType": "T4",
      "provenance": [],
      "collapsed_sections": [
        "R_QV5a_N0cTZ",
        "pJ6kFjic3dg9",
        "PNYs3mPE7wOb",
        "YrOOL6JR0vGV",
        "oIlq5FYZ1CTd",
        "Tm7OzoVW2WuD",
        "bqA49-le9UjJ",
        "74jLJuvqMCna",
        "4Dt2Z1bdGOIn",
        "oSYNS2FwuaDY",
        "Fu6F7_L89dZ3"
      ]
    },
    "kernelspec": {
      "display_name": "Python 3",
      "name": "python3"
    }
  },
  "nbformat": 4,
  "nbformat_minor": 0
}